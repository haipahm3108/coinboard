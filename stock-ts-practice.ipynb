{
 "cells": [
  {
   "cell_type": "code",
   "execution_count": 1,
   "id": "818c3fd9",
   "metadata": {
    "_cell_guid": "b1076dfc-b9ad-4769-8c92-a6c4dae69d19",
    "_uuid": "8f2839f25d086af736a60e9eeb907d3b93b6e0e5",
    "execution": {
     "iopub.execute_input": "2025-10-01T04:31:26.837529Z",
     "iopub.status.busy": "2025-10-01T04:31:26.837173Z",
     "iopub.status.idle": "2025-10-01T04:31:55.888462Z",
     "shell.execute_reply": "2025-10-01T04:31:55.887399Z"
    },
    "papermill": {
     "duration": 29.063012,
     "end_time": "2025-10-01T04:31:55.890706",
     "exception": false,
     "start_time": "2025-10-01T04:31:26.827694",
     "status": "completed"
    },
    "tags": []
   },
   "outputs": [],
   "source": [
    "# This Python 3 environment comes with many helpful analytics libraries installed\n",
    "# It is defined by the kaggle/python Docker image: https://github.com/kaggle/docker-python\n",
    "# For example, here's several helpful packages to load\n",
    "\n",
    "import numpy as np # linear algebra\n",
    "import pandas as pd # data processing, CSV file I/O (e.g. pd.read_csv)\n",
    "\n",
    "# Input data files are available in the read-only \"../input/\" directory\n",
    "# For example, running this (by clicking run or pressing Shift+Enter) will list all files under the input directory\n",
    "\n",
    "import os\n",
    "for dirname, _, filenames in os.walk('/kaggle/input'):\n",
    "    for filename in filenames:\n",
    "        pass\n",
    "        #print(os.path.join(dirname, filename))\n",
    "\n",
    "# You can write up to 20GB to the current directory (/kaggle/working/) that gets preserved as output when you create a version using \"Save & Run All\" \n",
    "# You can also write temporary files to /kaggle/temp/, but they won't be saved outside of the current session"
   ]
  },
  {
   "cell_type": "code",
   "execution_count": 2,
   "id": "b8930e27",
   "metadata": {
    "execution": {
     "iopub.execute_input": "2025-10-01T04:31:55.906862Z",
     "iopub.status.busy": "2025-10-01T04:31:55.906441Z",
     "iopub.status.idle": "2025-10-01T04:32:17.561076Z",
     "shell.execute_reply": "2025-10-01T04:32:17.560046Z"
    },
    "papermill": {
     "duration": 21.664526,
     "end_time": "2025-10-01T04:32:17.562921",
     "exception": false,
     "start_time": "2025-10-01T04:31:55.898395",
     "status": "completed"
    },
    "tags": []
   },
   "outputs": [
    {
     "name": "stderr",
     "output_type": "stream",
     "text": [
      "2025-10-01 04:31:58.071597: E external/local_xla/xla/stream_executor/cuda/cuda_fft.cc:477] Unable to register cuFFT factory: Attempting to register factory for plugin cuFFT when one has already been registered\n",
      "WARNING: All log messages before absl::InitializeLog() is called are written to STDERR\n",
      "E0000 00:00:1759293118.338853      13 cuda_dnn.cc:8310] Unable to register cuDNN factory: Attempting to register factory for plugin cuDNN when one has already been registered\n",
      "E0000 00:00:1759293118.413384      13 cuda_blas.cc:1418] Unable to register cuBLAS factory: Attempting to register factory for plugin cuBLAS when one has already been registered\n"
     ]
    }
   ],
   "source": [
    "import numpy as np\n",
    "import pandas as pd\n",
    "import tensorflow as tf\n",
    "import matplotlib.pyplot as plt\n",
    "import matplotlib.font_manager as font_manager\n",
    "import seaborn as sns\n",
    "import datetime\n",
    "\n",
    "from tensorflow.keras import Model, Sequential\n",
    "from tensorflow.keras.optimizers import Adam\n",
    "from tensorflow.keras.losses import MeanSquaredError\n",
    "from tensorflow.keras.callbacks import EarlyStopping\n",
    "from tensorflow.keras.metrics import MeanAbsoluteError\n",
    "from tensorflow.keras.layers import Dense, Conv1D, LSTM, Lambda, RNN, LSTMCell\n",
    "\n",
    "\n",
    "import warnings\n",
    "warnings.filterwarnings(\"ignore\")\n"
   ]
  },
  {
   "cell_type": "code",
   "execution_count": 3,
   "id": "30cb6164",
   "metadata": {
    "execution": {
     "iopub.execute_input": "2025-10-01T04:32:17.581854Z",
     "iopub.status.busy": "2025-10-01T04:32:17.580526Z",
     "iopub.status.idle": "2025-10-01T04:32:17.586668Z",
     "shell.execute_reply": "2025-10-01T04:32:17.585402Z"
    },
    "papermill": {
     "duration": 0.017189,
     "end_time": "2025-10-01T04:32:17.588637",
     "exception": false,
     "start_time": "2025-10-01T04:32:17.571448",
     "status": "completed"
    },
    "tags": []
   },
   "outputs": [],
   "source": [
    "plt.rcParams[\"figure.figsize\"] =  (10,4)"
   ]
  },
  {
   "cell_type": "code",
   "execution_count": 4,
   "id": "c885a1ee",
   "metadata": {
    "execution": {
     "iopub.execute_input": "2025-10-01T04:32:17.605572Z",
     "iopub.status.busy": "2025-10-01T04:32:17.605215Z",
     "iopub.status.idle": "2025-10-01T04:32:17.610474Z",
     "shell.execute_reply": "2025-10-01T04:32:17.609366Z"
    },
    "papermill": {
     "duration": 0.016413,
     "end_time": "2025-10-01T04:32:17.612263",
     "exception": false,
     "start_time": "2025-10-01T04:32:17.595850",
     "status": "completed"
    },
    "tags": []
   },
   "outputs": [],
   "source": [
    "tf.random.set_seed(42)\n",
    "np.random.seed(42)"
   ]
  },
  {
   "cell_type": "code",
   "execution_count": 5,
   "id": "8f832795",
   "metadata": {
    "execution": {
     "iopub.execute_input": "2025-10-01T04:32:17.629705Z",
     "iopub.status.busy": "2025-10-01T04:32:17.629320Z",
     "iopub.status.idle": "2025-10-01T04:32:17.670351Z",
     "shell.execute_reply": "2025-10-01T04:32:17.668875Z"
    },
    "papermill": {
     "duration": 0.05252,
     "end_time": "2025-10-01T04:32:17.672326",
     "exception": false,
     "start_time": "2025-10-01T04:32:17.619806",
     "status": "completed"
    },
    "tags": []
   },
   "outputs": [
    {
     "data": {
      "text/plain": [
       "4333"
      ]
     },
     "execution_count": 5,
     "metadata": {},
     "output_type": "execute_result"
    }
   ],
   "source": [
    "url = \"/kaggle/input/stock-market-data/stock_market_data/nasdaq/csv/AAL.csv\"\n",
    "_df = pd.read_csv(url, sep=\",\")\n",
    "len(_df)"
   ]
  },
  {
   "cell_type": "code",
   "execution_count": 6,
   "id": "7b1d77e6",
   "metadata": {
    "execution": {
     "iopub.execute_input": "2025-10-01T04:32:17.688155Z",
     "iopub.status.busy": "2025-10-01T04:32:17.687758Z",
     "iopub.status.idle": "2025-10-01T04:32:17.717652Z",
     "shell.execute_reply": "2025-10-01T04:32:17.716574Z"
    },
    "papermill": {
     "duration": 0.039613,
     "end_time": "2025-10-01T04:32:17.719370",
     "exception": false,
     "start_time": "2025-10-01T04:32:17.679757",
     "status": "completed"
    },
    "tags": []
   },
   "outputs": [
    {
     "data": {
      "text/html": [
       "<div>\n",
       "<style scoped>\n",
       "    .dataframe tbody tr th:only-of-type {\n",
       "        vertical-align: middle;\n",
       "    }\n",
       "\n",
       "    .dataframe tbody tr th {\n",
       "        vertical-align: top;\n",
       "    }\n",
       "\n",
       "    .dataframe thead th {\n",
       "        text-align: right;\n",
       "    }\n",
       "</style>\n",
       "<table border=\"1\" class=\"dataframe\">\n",
       "  <thead>\n",
       "    <tr style=\"text-align: right;\">\n",
       "      <th></th>\n",
       "      <th>Date</th>\n",
       "      <th>Low</th>\n",
       "      <th>Open</th>\n",
       "      <th>Volume</th>\n",
       "      <th>High</th>\n",
       "      <th>Close</th>\n",
       "      <th>Adjusted Close</th>\n",
       "    </tr>\n",
       "  </thead>\n",
       "  <tbody>\n",
       "    <tr>\n",
       "      <th>0</th>\n",
       "      <td>27-09-2005</td>\n",
       "      <td>19.100000</td>\n",
       "      <td>21.049999</td>\n",
       "      <td>961200</td>\n",
       "      <td>21.400000</td>\n",
       "      <td>19.299999</td>\n",
       "      <td>18.194910</td>\n",
       "    </tr>\n",
       "    <tr>\n",
       "      <th>1</th>\n",
       "      <td>28-09-2005</td>\n",
       "      <td>19.200001</td>\n",
       "      <td>19.299999</td>\n",
       "      <td>5747900</td>\n",
       "      <td>20.530001</td>\n",
       "      <td>20.500000</td>\n",
       "      <td>19.326204</td>\n",
       "    </tr>\n",
       "    <tr>\n",
       "      <th>2</th>\n",
       "      <td>29-09-2005</td>\n",
       "      <td>20.100000</td>\n",
       "      <td>20.400000</td>\n",
       "      <td>1078200</td>\n",
       "      <td>20.580000</td>\n",
       "      <td>20.209999</td>\n",
       "      <td>19.052805</td>\n",
       "    </tr>\n",
       "    <tr>\n",
       "      <th>3</th>\n",
       "      <td>30-09-2005</td>\n",
       "      <td>20.180000</td>\n",
       "      <td>20.260000</td>\n",
       "      <td>3123300</td>\n",
       "      <td>21.049999</td>\n",
       "      <td>21.010000</td>\n",
       "      <td>19.807001</td>\n",
       "    </tr>\n",
       "    <tr>\n",
       "      <th>4</th>\n",
       "      <td>03-10-2005</td>\n",
       "      <td>20.900000</td>\n",
       "      <td>20.900000</td>\n",
       "      <td>1057900</td>\n",
       "      <td>21.750000</td>\n",
       "      <td>21.500000</td>\n",
       "      <td>20.268940</td>\n",
       "    </tr>\n",
       "  </tbody>\n",
       "</table>\n",
       "</div>"
      ],
      "text/plain": [
       "         Date        Low       Open   Volume       High      Close  \\\n",
       "0  27-09-2005  19.100000  21.049999   961200  21.400000  19.299999   \n",
       "1  28-09-2005  19.200001  19.299999  5747900  20.530001  20.500000   \n",
       "2  29-09-2005  20.100000  20.400000  1078200  20.580000  20.209999   \n",
       "3  30-09-2005  20.180000  20.260000  3123300  21.049999  21.010000   \n",
       "4  03-10-2005  20.900000  20.900000  1057900  21.750000  21.500000   \n",
       "\n",
       "   Adjusted Close  \n",
       "0       18.194910  \n",
       "1       19.326204  \n",
       "2       19.052805  \n",
       "3       19.807001  \n",
       "4       20.268940  "
      ]
     },
     "execution_count": 6,
     "metadata": {},
     "output_type": "execute_result"
    }
   ],
   "source": [
    "df =  _df.copy()\n",
    "df.head()"
   ]
  },
  {
   "cell_type": "markdown",
   "id": "87d37e74",
   "metadata": {
    "papermill": {
     "duration": 0.006798,
     "end_time": "2025-10-01T04:32:17.733644",
     "exception": false,
     "start_time": "2025-10-01T04:32:17.726846",
     "status": "completed"
    },
    "tags": []
   },
   "source": [
    "# Data cleanup"
   ]
  },
  {
   "cell_type": "code",
   "execution_count": 7,
   "id": "bcb5dd9f",
   "metadata": {
    "execution": {
     "iopub.execute_input": "2025-10-01T04:32:17.749473Z",
     "iopub.status.busy": "2025-10-01T04:32:17.749169Z",
     "iopub.status.idle": "2025-10-01T04:32:17.761908Z",
     "shell.execute_reply": "2025-10-01T04:32:17.760886Z"
    },
    "papermill": {
     "duration": 0.022921,
     "end_time": "2025-10-01T04:32:17.763988",
     "exception": false,
     "start_time": "2025-10-01T04:32:17.741067",
     "status": "completed"
    },
    "tags": []
   },
   "outputs": [
    {
     "data": {
      "text/html": [
       "<div>\n",
       "<style scoped>\n",
       "    .dataframe tbody tr th:only-of-type {\n",
       "        vertical-align: middle;\n",
       "    }\n",
       "\n",
       "    .dataframe tbody tr th {\n",
       "        vertical-align: top;\n",
       "    }\n",
       "\n",
       "    .dataframe thead th {\n",
       "        text-align: right;\n",
       "    }\n",
       "</style>\n",
       "<table border=\"1\" class=\"dataframe\">\n",
       "  <thead>\n",
       "    <tr style=\"text-align: right;\">\n",
       "      <th></th>\n",
       "      <th>Date</th>\n",
       "      <th>Low</th>\n",
       "      <th>Open</th>\n",
       "      <th>Volume</th>\n",
       "      <th>High</th>\n",
       "      <th>Close</th>\n",
       "      <th>Adjusted Close</th>\n",
       "    </tr>\n",
       "  </thead>\n",
       "  <tbody>\n",
       "    <tr>\n",
       "      <th>0</th>\n",
       "      <td>27-09-2005</td>\n",
       "      <td>19.100000</td>\n",
       "      <td>21.049999</td>\n",
       "      <td>961200</td>\n",
       "      <td>21.400000</td>\n",
       "      <td>19.299999</td>\n",
       "      <td>18.194910</td>\n",
       "    </tr>\n",
       "    <tr>\n",
       "      <th>1</th>\n",
       "      <td>28-09-2005</td>\n",
       "      <td>19.200001</td>\n",
       "      <td>19.299999</td>\n",
       "      <td>5747900</td>\n",
       "      <td>20.530001</td>\n",
       "      <td>20.500000</td>\n",
       "      <td>19.326204</td>\n",
       "    </tr>\n",
       "    <tr>\n",
       "      <th>2</th>\n",
       "      <td>29-09-2005</td>\n",
       "      <td>20.100000</td>\n",
       "      <td>20.400000</td>\n",
       "      <td>1078200</td>\n",
       "      <td>20.580000</td>\n",
       "      <td>20.209999</td>\n",
       "      <td>19.052805</td>\n",
       "    </tr>\n",
       "    <tr>\n",
       "      <th>3</th>\n",
       "      <td>30-09-2005</td>\n",
       "      <td>20.180000</td>\n",
       "      <td>20.260000</td>\n",
       "      <td>3123300</td>\n",
       "      <td>21.049999</td>\n",
       "      <td>21.010000</td>\n",
       "      <td>19.807001</td>\n",
       "    </tr>\n",
       "    <tr>\n",
       "      <th>4</th>\n",
       "      <td>03-10-2005</td>\n",
       "      <td>20.900000</td>\n",
       "      <td>20.900000</td>\n",
       "      <td>1057900</td>\n",
       "      <td>21.750000</td>\n",
       "      <td>21.500000</td>\n",
       "      <td>20.268940</td>\n",
       "    </tr>\n",
       "  </tbody>\n",
       "</table>\n",
       "</div>"
      ],
      "text/plain": [
       "         Date        Low       Open   Volume       High      Close  \\\n",
       "0  27-09-2005  19.100000  21.049999   961200  21.400000  19.299999   \n",
       "1  28-09-2005  19.200001  19.299999  5747900  20.530001  20.500000   \n",
       "2  29-09-2005  20.100000  20.400000  1078200  20.580000  20.209999   \n",
       "3  30-09-2005  20.180000  20.260000  3123300  21.049999  21.010000   \n",
       "4  03-10-2005  20.900000  20.900000  1057900  21.750000  21.500000   \n",
       "\n",
       "   Adjusted Close  \n",
       "0       18.194910  \n",
       "1       19.326204  \n",
       "2       19.052805  \n",
       "3       19.807001  \n",
       "4       20.268940  "
      ]
     },
     "execution_count": 7,
     "metadata": {},
     "output_type": "execute_result"
    }
   ],
   "source": [
    "df.head()"
   ]
  },
  {
   "cell_type": "code",
   "execution_count": 8,
   "id": "cb2d0f73",
   "metadata": {
    "execution": {
     "iopub.execute_input": "2025-10-01T04:32:17.781162Z",
     "iopub.status.busy": "2025-10-01T04:32:17.780762Z",
     "iopub.status.idle": "2025-10-01T04:32:17.794324Z",
     "shell.execute_reply": "2025-10-01T04:32:17.793351Z"
    },
    "papermill": {
     "duration": 0.024231,
     "end_time": "2025-10-01T04:32:17.796175",
     "exception": false,
     "start_time": "2025-10-01T04:32:17.771944",
     "status": "completed"
    },
    "tags": []
   },
   "outputs": [
    {
     "data": {
      "text/html": [
       "<div>\n",
       "<style scoped>\n",
       "    .dataframe tbody tr th:only-of-type {\n",
       "        vertical-align: middle;\n",
       "    }\n",
       "\n",
       "    .dataframe tbody tr th {\n",
       "        vertical-align: top;\n",
       "    }\n",
       "\n",
       "    .dataframe thead th {\n",
       "        text-align: right;\n",
       "    }\n",
       "</style>\n",
       "<table border=\"1\" class=\"dataframe\">\n",
       "  <thead>\n",
       "    <tr style=\"text-align: right;\">\n",
       "      <th></th>\n",
       "      <th>Date</th>\n",
       "      <th>Low</th>\n",
       "      <th>Open</th>\n",
       "      <th>Volume</th>\n",
       "      <th>High</th>\n",
       "      <th>Close</th>\n",
       "      <th>Adjusted Close</th>\n",
       "    </tr>\n",
       "  </thead>\n",
       "  <tbody>\n",
       "    <tr>\n",
       "      <th>4328</th>\n",
       "      <td>06-12-2022</td>\n",
       "      <td>14.00</td>\n",
       "      <td>14.14</td>\n",
       "      <td>20781500</td>\n",
       "      <td>14.34</td>\n",
       "      <td>14.330</td>\n",
       "      <td>14.330</td>\n",
       "    </tr>\n",
       "    <tr>\n",
       "      <th>4329</th>\n",
       "      <td>07-12-2022</td>\n",
       "      <td>13.53</td>\n",
       "      <td>14.24</td>\n",
       "      <td>28161400</td>\n",
       "      <td>14.24</td>\n",
       "      <td>13.550</td>\n",
       "      <td>13.550</td>\n",
       "    </tr>\n",
       "    <tr>\n",
       "      <th>4330</th>\n",
       "      <td>08-12-2022</td>\n",
       "      <td>13.38</td>\n",
       "      <td>13.65</td>\n",
       "      <td>25300900</td>\n",
       "      <td>13.80</td>\n",
       "      <td>13.600</td>\n",
       "      <td>13.600</td>\n",
       "    </tr>\n",
       "    <tr>\n",
       "      <th>4331</th>\n",
       "      <td>09-12-2022</td>\n",
       "      <td>13.42</td>\n",
       "      <td>13.52</td>\n",
       "      <td>18489800</td>\n",
       "      <td>13.66</td>\n",
       "      <td>13.530</td>\n",
       "      <td>13.530</td>\n",
       "    </tr>\n",
       "    <tr>\n",
       "      <th>4332</th>\n",
       "      <td>12-12-2022</td>\n",
       "      <td>13.45</td>\n",
       "      <td>13.49</td>\n",
       "      <td>8048550</td>\n",
       "      <td>13.93</td>\n",
       "      <td>13.915</td>\n",
       "      <td>13.915</td>\n",
       "    </tr>\n",
       "  </tbody>\n",
       "</table>\n",
       "</div>"
      ],
      "text/plain": [
       "            Date    Low   Open    Volume   High   Close  Adjusted Close\n",
       "4328  06-12-2022  14.00  14.14  20781500  14.34  14.330          14.330\n",
       "4329  07-12-2022  13.53  14.24  28161400  14.24  13.550          13.550\n",
       "4330  08-12-2022  13.38  13.65  25300900  13.80  13.600          13.600\n",
       "4331  09-12-2022  13.42  13.52  18489800  13.66  13.530          13.530\n",
       "4332  12-12-2022  13.45  13.49   8048550  13.93  13.915          13.915"
      ]
     },
     "execution_count": 8,
     "metadata": {},
     "output_type": "execute_result"
    }
   ],
   "source": [
    "df.tail()"
   ]
  },
  {
   "cell_type": "markdown",
   "id": "247b60e5",
   "metadata": {
    "papermill": {
     "duration": 0.007243,
     "end_time": "2025-10-01T04:32:17.811366",
     "exception": false,
     "start_time": "2025-10-01T04:32:17.804123",
     "status": "completed"
    },
    "tags": []
   },
   "source": [
    "Stars 2005 ends 0n 2022. collected at work day (sat and sun wasn't inclued)"
   ]
  },
  {
   "cell_type": "code",
   "execution_count": 9,
   "id": "da6fdbd2",
   "metadata": {
    "execution": {
     "iopub.execute_input": "2025-10-01T04:32:17.828142Z",
     "iopub.status.busy": "2025-10-01T04:32:17.827775Z",
     "iopub.status.idle": "2025-10-01T04:32:17.834488Z",
     "shell.execute_reply": "2025-10-01T04:32:17.833404Z"
    },
    "papermill": {
     "duration": 0.017349,
     "end_time": "2025-10-01T04:32:17.836424",
     "exception": false,
     "start_time": "2025-10-01T04:32:17.819075",
     "status": "completed"
    },
    "tags": []
   },
   "outputs": [
    {
     "data": {
      "text/plain": [
       "(4333, 7)"
      ]
     },
     "execution_count": 9,
     "metadata": {},
     "output_type": "execute_result"
    }
   ],
   "source": [
    "df.shape # 7 columns and 4333 rows"
   ]
  },
  {
   "cell_type": "code",
   "execution_count": 10,
   "id": "0896e88a",
   "metadata": {
    "execution": {
     "iopub.execute_input": "2025-10-01T04:32:17.854443Z",
     "iopub.status.busy": "2025-10-01T04:32:17.853351Z",
     "iopub.status.idle": "2025-10-01T04:32:17.863492Z",
     "shell.execute_reply": "2025-10-01T04:32:17.862121Z"
    },
    "papermill": {
     "duration": 0.020887,
     "end_time": "2025-10-01T04:32:17.865518",
     "exception": false,
     "start_time": "2025-10-01T04:32:17.844631",
     "status": "completed"
    },
    "tags": []
   },
   "outputs": [
    {
     "data": {
      "text/plain": [
       "Date              0\n",
       "Low               0\n",
       "Open              0\n",
       "Volume            0\n",
       "High              0\n",
       "Close             0\n",
       "Adjusted Close    0\n",
       "dtype: int64"
      ]
     },
     "execution_count": 10,
     "metadata": {},
     "output_type": "execute_result"
    }
   ],
   "source": [
    "df.isna().sum()"
   ]
  },
  {
   "cell_type": "code",
   "execution_count": 11,
   "id": "5e6e0b23",
   "metadata": {
    "execution": {
     "iopub.execute_input": "2025-10-01T04:32:17.882700Z",
     "iopub.status.busy": "2025-10-01T04:32:17.882398Z",
     "iopub.status.idle": "2025-10-01T04:32:17.890215Z",
     "shell.execute_reply": "2025-10-01T04:32:17.889214Z"
    },
    "papermill": {
     "duration": 0.018265,
     "end_time": "2025-10-01T04:32:17.892029",
     "exception": false,
     "start_time": "2025-10-01T04:32:17.873764",
     "status": "completed"
    },
    "tags": []
   },
   "outputs": [
    {
     "data": {
      "text/plain": [
       "Date               object\n",
       "Low               float64\n",
       "Open              float64\n",
       "Volume              int64\n",
       "High              float64\n",
       "Close             float64\n",
       "Adjusted Close    float64\n",
       "dtype: object"
      ]
     },
     "execution_count": 11,
     "metadata": {},
     "output_type": "execute_result"
    }
   ],
   "source": [
    "df.dtypes"
   ]
  },
  {
   "cell_type": "code",
   "execution_count": 12,
   "id": "09b3afde",
   "metadata": {
    "execution": {
     "iopub.execute_input": "2025-10-01T04:32:17.909413Z",
     "iopub.status.busy": "2025-10-01T04:32:17.909100Z",
     "iopub.status.idle": "2025-10-01T04:32:17.934569Z",
     "shell.execute_reply": "2025-10-01T04:32:17.933498Z"
    },
    "papermill": {
     "duration": 0.03608,
     "end_time": "2025-10-01T04:32:17.936277",
     "exception": false,
     "start_time": "2025-10-01T04:32:17.900197",
     "status": "completed"
    },
    "tags": []
   },
   "outputs": [],
   "source": [
    "# Convert Date into datetime data type\n",
    "df[\"Date\"] = pd.to_datetime(df[\"Date\"])"
   ]
  },
  {
   "cell_type": "code",
   "execution_count": 13,
   "id": "642bed74",
   "metadata": {
    "execution": {
     "iopub.execute_input": "2025-10-01T04:32:17.953617Z",
     "iopub.status.busy": "2025-10-01T04:32:17.953275Z",
     "iopub.status.idle": "2025-10-01T04:32:17.961239Z",
     "shell.execute_reply": "2025-10-01T04:32:17.960076Z"
    },
    "papermill": {
     "duration": 0.018848,
     "end_time": "2025-10-01T04:32:17.963179",
     "exception": false,
     "start_time": "2025-10-01T04:32:17.944331",
     "status": "completed"
    },
    "tags": []
   },
   "outputs": [
    {
     "data": {
      "text/plain": [
       "Date              datetime64[ns]\n",
       "Low                      float64\n",
       "Open                     float64\n",
       "Volume                     int64\n",
       "High                     float64\n",
       "Close                    float64\n",
       "Adjusted Close           float64\n",
       "dtype: object"
      ]
     },
     "execution_count": 13,
     "metadata": {},
     "output_type": "execute_result"
    }
   ],
   "source": [
    "df.dtypes"
   ]
  },
  {
   "cell_type": "markdown",
   "id": "9f35ab51",
   "metadata": {
    "papermill": {
     "duration": 0.007869,
     "end_time": "2025-10-01T04:32:17.979337",
     "exception": false,
     "start_time": "2025-10-01T04:32:17.971468",
     "status": "completed"
    },
    "tags": []
   },
   "source": [
    "# Data Resampling\n",
    "Check if data is sampled every day is approriate for modeling and if data sampled every day is too noisy to build performant predictive model"
   ]
  },
  {
   "cell_type": "code",
   "execution_count": 14,
   "id": "c31e940f",
   "metadata": {
    "execution": {
     "iopub.execute_input": "2025-10-01T04:32:17.997821Z",
     "iopub.status.busy": "2025-10-01T04:32:17.997032Z",
     "iopub.status.idle": "2025-10-01T04:32:18.022407Z",
     "shell.execute_reply": "2025-10-01T04:32:18.021385Z"
    },
    "papermill": {
     "duration": 0.036965,
     "end_time": "2025-10-01T04:32:18.024361",
     "exception": false,
     "start_time": "2025-10-01T04:32:17.987396",
     "status": "completed"
    },
    "tags": []
   },
   "outputs": [
    {
     "data": {
      "text/html": [
       "<div>\n",
       "<style scoped>\n",
       "    .dataframe tbody tr th:only-of-type {\n",
       "        vertical-align: middle;\n",
       "    }\n",
       "\n",
       "    .dataframe tbody tr th {\n",
       "        vertical-align: top;\n",
       "    }\n",
       "\n",
       "    .dataframe thead th {\n",
       "        text-align: right;\n",
       "    }\n",
       "</style>\n",
       "<table border=\"1\" class=\"dataframe\">\n",
       "  <thead>\n",
       "    <tr style=\"text-align: right;\">\n",
       "      <th></th>\n",
       "      <th>Date</th>\n",
       "    </tr>\n",
       "    <tr>\n",
       "      <th>Date</th>\n",
       "      <th></th>\n",
       "    </tr>\n",
       "  </thead>\n",
       "  <tbody>\n",
       "    <tr>\n",
       "      <th>2005-09</th>\n",
       "      <td>4</td>\n",
       "    </tr>\n",
       "    <tr>\n",
       "      <th>2005-10</th>\n",
       "      <td>21</td>\n",
       "    </tr>\n",
       "    <tr>\n",
       "      <th>2005-11</th>\n",
       "      <td>21</td>\n",
       "    </tr>\n",
       "    <tr>\n",
       "      <th>2005-12</th>\n",
       "      <td>21</td>\n",
       "    </tr>\n",
       "    <tr>\n",
       "      <th>2006-01</th>\n",
       "      <td>20</td>\n",
       "    </tr>\n",
       "    <tr>\n",
       "      <th>2006-02</th>\n",
       "      <td>19</td>\n",
       "    </tr>\n",
       "    <tr>\n",
       "      <th>2006-03</th>\n",
       "      <td>23</td>\n",
       "    </tr>\n",
       "    <tr>\n",
       "      <th>2006-04</th>\n",
       "      <td>19</td>\n",
       "    </tr>\n",
       "    <tr>\n",
       "      <th>2006-05</th>\n",
       "      <td>22</td>\n",
       "    </tr>\n",
       "    <tr>\n",
       "      <th>2006-06</th>\n",
       "      <td>22</td>\n",
       "    </tr>\n",
       "    <tr>\n",
       "      <th>2006-07</th>\n",
       "      <td>20</td>\n",
       "    </tr>\n",
       "    <tr>\n",
       "      <th>2006-08</th>\n",
       "      <td>23</td>\n",
       "    </tr>\n",
       "    <tr>\n",
       "      <th>2006-09</th>\n",
       "      <td>20</td>\n",
       "    </tr>\n",
       "    <tr>\n",
       "      <th>2006-10</th>\n",
       "      <td>22</td>\n",
       "    </tr>\n",
       "    <tr>\n",
       "      <th>2006-11</th>\n",
       "      <td>21</td>\n",
       "    </tr>\n",
       "    <tr>\n",
       "      <th>2006-12</th>\n",
       "      <td>20</td>\n",
       "    </tr>\n",
       "    <tr>\n",
       "      <th>2007-01</th>\n",
       "      <td>20</td>\n",
       "    </tr>\n",
       "    <tr>\n",
       "      <th>2007-02</th>\n",
       "      <td>19</td>\n",
       "    </tr>\n",
       "    <tr>\n",
       "      <th>2007-03</th>\n",
       "      <td>22</td>\n",
       "    </tr>\n",
       "    <tr>\n",
       "      <th>2007-04</th>\n",
       "      <td>20</td>\n",
       "    </tr>\n",
       "  </tbody>\n",
       "</table>\n",
       "</div>"
      ],
      "text/plain": [
       "         Date\n",
       "Date         \n",
       "2005-09     4\n",
       "2005-10    21\n",
       "2005-11    21\n",
       "2005-12    21\n",
       "2006-01    20\n",
       "2006-02    19\n",
       "2006-03    23\n",
       "2006-04    19\n",
       "2006-05    22\n",
       "2006-06    22\n",
       "2006-07    20\n",
       "2006-08    23\n",
       "2006-09    20\n",
       "2006-10    22\n",
       "2006-11    21\n",
       "2006-12    20\n",
       "2007-01    20\n",
       "2007-02    19\n",
       "2007-03    22\n",
       "2007-04    20"
      ]
     },
     "execution_count": 14,
     "metadata": {},
     "output_type": "execute_result"
    }
   ],
   "source": [
    "days_per_month = df.groupby(df[\"Date\"].dt.to_period(\"M\"))[\"Date\"].nunique()\n",
    "\n",
    "days_per_month = pd.DataFrame(days_per_month)\n",
    "days_per_month.head(20)"
   ]
  },
  {
   "cell_type": "code",
   "execution_count": 15,
   "id": "de062e04",
   "metadata": {
    "execution": {
     "iopub.execute_input": "2025-10-01T04:32:18.042348Z",
     "iopub.status.busy": "2025-10-01T04:32:18.041943Z",
     "iopub.status.idle": "2025-10-01T04:32:18.073031Z",
     "shell.execute_reply": "2025-10-01T04:32:18.071561Z"
    },
    "papermill": {
     "duration": 0.042055,
     "end_time": "2025-10-01T04:32:18.074841",
     "exception": false,
     "start_time": "2025-10-01T04:32:18.032786",
     "status": "completed"
    },
    "tags": []
   },
   "outputs": [
    {
     "data": {
      "text/html": [
       "<div>\n",
       "<style scoped>\n",
       "    .dataframe tbody tr th:only-of-type {\n",
       "        vertical-align: middle;\n",
       "    }\n",
       "\n",
       "    .dataframe tbody tr th {\n",
       "        vertical-align: top;\n",
       "    }\n",
       "\n",
       "    .dataframe thead th {\n",
       "        text-align: right;\n",
       "    }\n",
       "</style>\n",
       "<table border=\"1\" class=\"dataframe\">\n",
       "  <thead>\n",
       "    <tr style=\"text-align: right;\">\n",
       "      <th></th>\n",
       "      <th>Date</th>\n",
       "      <th>Low</th>\n",
       "      <th>Open</th>\n",
       "      <th>Volume</th>\n",
       "      <th>High</th>\n",
       "      <th>Close</th>\n",
       "      <th>Adjusted Close</th>\n",
       "    </tr>\n",
       "  </thead>\n",
       "  <tbody>\n",
       "    <tr>\n",
       "      <th>0</th>\n",
       "      <td>2006-01-03</td>\n",
       "      <td>36.849998</td>\n",
       "      <td>37.200001</td>\n",
       "      <td>1013200</td>\n",
       "      <td>38.279999</td>\n",
       "      <td>37.450001</td>\n",
       "      <td>35.305672</td>\n",
       "    </tr>\n",
       "    <tr>\n",
       "      <th>1</th>\n",
       "      <td>2006-01-04</td>\n",
       "      <td>37.700001</td>\n",
       "      <td>37.700001</td>\n",
       "      <td>1928400</td>\n",
       "      <td>40.599998</td>\n",
       "      <td>39.200001</td>\n",
       "      <td>36.955467</td>\n",
       "    </tr>\n",
       "    <tr>\n",
       "      <th>2</th>\n",
       "      <td>2006-01-05</td>\n",
       "      <td>38.910000</td>\n",
       "      <td>39.180000</td>\n",
       "      <td>317900</td>\n",
       "      <td>39.709999</td>\n",
       "      <td>39.709999</td>\n",
       "      <td>37.436268</td>\n",
       "    </tr>\n",
       "    <tr>\n",
       "      <th>3</th>\n",
       "      <td>2006-01-06</td>\n",
       "      <td>38.139999</td>\n",
       "      <td>39.709999</td>\n",
       "      <td>349200</td>\n",
       "      <td>39.709999</td>\n",
       "      <td>39.000000</td>\n",
       "      <td>36.766914</td>\n",
       "    </tr>\n",
       "    <tr>\n",
       "      <th>4</th>\n",
       "      <td>2006-01-09</td>\n",
       "      <td>38.500000</td>\n",
       "      <td>38.799999</td>\n",
       "      <td>220800</td>\n",
       "      <td>38.880001</td>\n",
       "      <td>38.610001</td>\n",
       "      <td>36.399242</td>\n",
       "    </tr>\n",
       "    <tr>\n",
       "      <th>5</th>\n",
       "      <td>2006-01-10</td>\n",
       "      <td>37.400002</td>\n",
       "      <td>38.610001</td>\n",
       "      <td>191300</td>\n",
       "      <td>38.709999</td>\n",
       "      <td>37.799999</td>\n",
       "      <td>35.635628</td>\n",
       "    </tr>\n",
       "    <tr>\n",
       "      <th>6</th>\n",
       "      <td>2006-01-11</td>\n",
       "      <td>34.650002</td>\n",
       "      <td>37.799999</td>\n",
       "      <td>974300</td>\n",
       "      <td>37.799999</td>\n",
       "      <td>34.799999</td>\n",
       "      <td>32.807415</td>\n",
       "    </tr>\n",
       "    <tr>\n",
       "      <th>7</th>\n",
       "      <td>2006-01-12</td>\n",
       "      <td>32.959999</td>\n",
       "      <td>33.000000</td>\n",
       "      <td>2008900</td>\n",
       "      <td>35.349998</td>\n",
       "      <td>34.990002</td>\n",
       "      <td>32.986526</td>\n",
       "    </tr>\n",
       "    <tr>\n",
       "      <th>8</th>\n",
       "      <td>2006-01-13</td>\n",
       "      <td>33.310001</td>\n",
       "      <td>35.000000</td>\n",
       "      <td>734200</td>\n",
       "      <td>35.419998</td>\n",
       "      <td>34.049999</td>\n",
       "      <td>32.100342</td>\n",
       "    </tr>\n",
       "    <tr>\n",
       "      <th>9</th>\n",
       "      <td>2006-01-17</td>\n",
       "      <td>29.620001</td>\n",
       "      <td>33.549999</td>\n",
       "      <td>2351200</td>\n",
       "      <td>33.549999</td>\n",
       "      <td>30.000000</td>\n",
       "      <td>28.282244</td>\n",
       "    </tr>\n",
       "    <tr>\n",
       "      <th>10</th>\n",
       "      <td>2006-01-18</td>\n",
       "      <td>28.879999</td>\n",
       "      <td>29.100000</td>\n",
       "      <td>1773700</td>\n",
       "      <td>31.160000</td>\n",
       "      <td>31.000000</td>\n",
       "      <td>29.224985</td>\n",
       "    </tr>\n",
       "    <tr>\n",
       "      <th>11</th>\n",
       "      <td>2006-01-19</td>\n",
       "      <td>29.340000</td>\n",
       "      <td>30.799999</td>\n",
       "      <td>857200</td>\n",
       "      <td>31.240000</td>\n",
       "      <td>30.389999</td>\n",
       "      <td>28.649918</td>\n",
       "    </tr>\n",
       "    <tr>\n",
       "      <th>12</th>\n",
       "      <td>2006-01-20</td>\n",
       "      <td>28.600000</td>\n",
       "      <td>30.280001</td>\n",
       "      <td>788700</td>\n",
       "      <td>30.280001</td>\n",
       "      <td>29.240000</td>\n",
       "      <td>27.565760</td>\n",
       "    </tr>\n",
       "    <tr>\n",
       "      <th>13</th>\n",
       "      <td>2006-01-23</td>\n",
       "      <td>29.150000</td>\n",
       "      <td>29.490000</td>\n",
       "      <td>530800</td>\n",
       "      <td>30.049999</td>\n",
       "      <td>29.420000</td>\n",
       "      <td>27.735455</td>\n",
       "    </tr>\n",
       "    <tr>\n",
       "      <th>14</th>\n",
       "      <td>2006-01-24</td>\n",
       "      <td>29.750000</td>\n",
       "      <td>29.900000</td>\n",
       "      <td>648900</td>\n",
       "      <td>31.469999</td>\n",
       "      <td>31.020000</td>\n",
       "      <td>29.243839</td>\n",
       "    </tr>\n",
       "    <tr>\n",
       "      <th>15</th>\n",
       "      <td>2006-01-25</td>\n",
       "      <td>30.750000</td>\n",
       "      <td>31.150000</td>\n",
       "      <td>836300</td>\n",
       "      <td>31.510000</td>\n",
       "      <td>31.000000</td>\n",
       "      <td>29.224985</td>\n",
       "    </tr>\n",
       "    <tr>\n",
       "      <th>16</th>\n",
       "      <td>2006-01-26</td>\n",
       "      <td>30.000000</td>\n",
       "      <td>31.049999</td>\n",
       "      <td>313700</td>\n",
       "      <td>31.250000</td>\n",
       "      <td>30.250000</td>\n",
       "      <td>28.517929</td>\n",
       "    </tr>\n",
       "    <tr>\n",
       "      <th>17</th>\n",
       "      <td>2006-01-27</td>\n",
       "      <td>28.299999</td>\n",
       "      <td>30.200001</td>\n",
       "      <td>518600</td>\n",
       "      <td>30.200001</td>\n",
       "      <td>28.889999</td>\n",
       "      <td>27.235802</td>\n",
       "    </tr>\n",
       "    <tr>\n",
       "      <th>18</th>\n",
       "      <td>2006-01-30</td>\n",
       "      <td>28.730000</td>\n",
       "      <td>28.730000</td>\n",
       "      <td>917300</td>\n",
       "      <td>29.580000</td>\n",
       "      <td>29.000000</td>\n",
       "      <td>27.339504</td>\n",
       "    </tr>\n",
       "    <tr>\n",
       "      <th>19</th>\n",
       "      <td>2006-01-31</td>\n",
       "      <td>29.010000</td>\n",
       "      <td>29.170000</td>\n",
       "      <td>490600</td>\n",
       "      <td>30.410000</td>\n",
       "      <td>29.340000</td>\n",
       "      <td>27.660040</td>\n",
       "    </tr>\n",
       "  </tbody>\n",
       "</table>\n",
       "</div>"
      ],
      "text/plain": [
       "         Date        Low       Open   Volume       High      Close  \\\n",
       "0  2006-01-03  36.849998  37.200001  1013200  38.279999  37.450001   \n",
       "1  2006-01-04  37.700001  37.700001  1928400  40.599998  39.200001   \n",
       "2  2006-01-05  38.910000  39.180000   317900  39.709999  39.709999   \n",
       "3  2006-01-06  38.139999  39.709999   349200  39.709999  39.000000   \n",
       "4  2006-01-09  38.500000  38.799999   220800  38.880001  38.610001   \n",
       "5  2006-01-10  37.400002  38.610001   191300  38.709999  37.799999   \n",
       "6  2006-01-11  34.650002  37.799999   974300  37.799999  34.799999   \n",
       "7  2006-01-12  32.959999  33.000000  2008900  35.349998  34.990002   \n",
       "8  2006-01-13  33.310001  35.000000   734200  35.419998  34.049999   \n",
       "9  2006-01-17  29.620001  33.549999  2351200  33.549999  30.000000   \n",
       "10 2006-01-18  28.879999  29.100000  1773700  31.160000  31.000000   \n",
       "11 2006-01-19  29.340000  30.799999   857200  31.240000  30.389999   \n",
       "12 2006-01-20  28.600000  30.280001   788700  30.280001  29.240000   \n",
       "13 2006-01-23  29.150000  29.490000   530800  30.049999  29.420000   \n",
       "14 2006-01-24  29.750000  29.900000   648900  31.469999  31.020000   \n",
       "15 2006-01-25  30.750000  31.150000   836300  31.510000  31.000000   \n",
       "16 2006-01-26  30.000000  31.049999   313700  31.250000  30.250000   \n",
       "17 2006-01-27  28.299999  30.200001   518600  30.200001  28.889999   \n",
       "18 2006-01-30  28.730000  28.730000   917300  29.580000  29.000000   \n",
       "19 2006-01-31  29.010000  29.170000   490600  30.410000  29.340000   \n",
       "\n",
       "    Adjusted Close  \n",
       "0        35.305672  \n",
       "1        36.955467  \n",
       "2        37.436268  \n",
       "3        36.766914  \n",
       "4        36.399242  \n",
       "5        35.635628  \n",
       "6        32.807415  \n",
       "7        32.986526  \n",
       "8        32.100342  \n",
       "9        28.282244  \n",
       "10       29.224985  \n",
       "11       28.649918  \n",
       "12       27.565760  \n",
       "13       27.735455  \n",
       "14       29.243839  \n",
       "15       29.224985  \n",
       "16       28.517929  \n",
       "17       27.235802  \n",
       "18       27.339504  \n",
       "19       27.660040  "
      ]
     },
     "execution_count": 15,
     "metadata": {},
     "output_type": "execute_result"
    }
   ],
   "source": [
    "# year 2005 have noticeble less days the the rest. Drop 2005\n",
    "df = df[df[\"Date\"].dt.year != 2005]\n",
    "\n",
    "df.reset_index(inplace = True, drop = True)\n",
    "\n",
    "df.head(20)"
   ]
  },
  {
   "cell_type": "code",
   "execution_count": 16,
   "id": "b0b78b25",
   "metadata": {
    "execution": {
     "iopub.execute_input": "2025-10-01T04:32:18.094289Z",
     "iopub.status.busy": "2025-10-01T04:32:18.093860Z",
     "iopub.status.idle": "2025-10-01T04:32:18.442196Z",
     "shell.execute_reply": "2025-10-01T04:32:18.441180Z"
    },
    "papermill": {
     "duration": 0.360198,
     "end_time": "2025-10-01T04:32:18.443902",
     "exception": false,
     "start_time": "2025-10-01T04:32:18.083704",
     "status": "completed"
    },
    "tags": []
   },
   "outputs": [
    {
     "data": {
      "image/png": "[encoded data removed]",
      "text/plain": [
       "<Figure size 1000x400 with 1 Axes>"
      ]
     },
     "metadata": {},
     "output_type": "display_data"
    }
   ],
   "source": [
    "fig, ax = plt.subplots(figsize=(10,4))\n",
    "\n",
    "ax.plot(df[\"Close\"])\n",
    "ax.set_xlabel(\"Date\")\n",
    "ax.set_ylabel(\"Closing price (USD)\")\n",
    "\n",
    "ax.set_xlim(0, 260)\n",
    "\n",
    "fig.autofmt_xdate()\n",
    "plt.tight_layout()"
   ]
  },
  {
   "cell_type": "markdown",
   "id": "7f7b3304",
   "metadata": {
    "papermill": {
     "duration": 0.009011,
     "end_time": "2025-10-01T04:32:18.463541",
     "exception": false,
     "start_time": "2025-10-01T04:32:18.454530",
     "status": "completed"
    },
    "tags": []
   },
   "source": [
    "**Figure**: close price sampled every day for one year. "
   ]
  },
  {
   "cell_type": "markdown",
   "id": "ea943d80",
   "metadata": {
    "papermill": {
     "duration": 0.009745,
     "end_time": "2025-10-01T04:32:18.482610",
     "exception": false,
     "start_time": "2025-10-01T04:32:18.472865",
     "status": "completed"
    },
    "tags": []
   },
   "source": [
    "Data wrangling done. Save this clean up dataset as a new CSV file."
   ]
  },
  {
   "cell_type": "code",
   "execution_count": 17,
   "id": "f01e8f01",
   "metadata": {
    "execution": {
     "iopub.execute_input": "2025-10-01T04:32:18.502691Z",
     "iopub.status.busy": "2025-10-01T04:32:18.502341Z",
     "iopub.status.idle": "2025-10-01T04:32:18.558881Z",
     "shell.execute_reply": "2025-10-01T04:32:18.557774Z"
    },
    "papermill": {
     "duration": 0.068825,
     "end_time": "2025-10-01T04:32:18.560858",
     "exception": false,
     "start_time": "2025-10-01T04:32:18.492033",
     "status": "completed"
    },
    "tags": []
   },
   "outputs": [],
   "source": [
    "df.to_csv(\"../clean_AAL.csv\", header=True, index=False)"
   ]
  },
  {
   "cell_type": "markdown",
   "id": "d79c6ed8",
   "metadata": {
    "papermill": {
     "duration": 0.009556,
     "end_time": "2025-10-01T04:32:18.581274",
     "exception": false,
     "start_time": "2025-10-01T04:32:18.571718",
     "status": "completed"
    },
    "tags": []
   },
   "source": [
    "# Feature Engineering\n",
    "Start to read the cleanup version and working on feature engineering"
   ]
  },
  {
   "cell_type": "code",
   "execution_count": 18,
   "id": "d66f5411",
   "metadata": {
    "execution": {
     "iopub.execute_input": "2025-10-01T04:32:18.601612Z",
     "iopub.status.busy": "2025-10-01T04:32:18.600907Z",
     "iopub.status.idle": "2025-10-01T04:32:18.626212Z",
     "shell.execute_reply": "2025-10-01T04:32:18.625154Z"
    },
    "papermill": {
     "duration": 0.037484,
     "end_time": "2025-10-01T04:32:18.628092",
     "exception": false,
     "start_time": "2025-10-01T04:32:18.590608",
     "status": "completed"
    },
    "tags": []
   },
   "outputs": [
    {
     "data": {
      "text/html": [
       "<div>\n",
       "<style scoped>\n",
       "    .dataframe tbody tr th:only-of-type {\n",
       "        vertical-align: middle;\n",
       "    }\n",
       "\n",
       "    .dataframe tbody tr th {\n",
       "        vertical-align: top;\n",
       "    }\n",
       "\n",
       "    .dataframe thead th {\n",
       "        text-align: right;\n",
       "    }\n",
       "</style>\n",
       "<table border=\"1\" class=\"dataframe\">\n",
       "  <thead>\n",
       "    <tr style=\"text-align: right;\">\n",
       "      <th></th>\n",
       "      <th>Date</th>\n",
       "      <th>Low</th>\n",
       "      <th>Open</th>\n",
       "      <th>Volume</th>\n",
       "      <th>High</th>\n",
       "      <th>Close</th>\n",
       "      <th>Adjusted Close</th>\n",
       "    </tr>\n",
       "  </thead>\n",
       "  <tbody>\n",
       "    <tr>\n",
       "      <th>0</th>\n",
       "      <td>2006-01-03</td>\n",
       "      <td>36.849998</td>\n",
       "      <td>37.200001</td>\n",
       "      <td>1013200</td>\n",
       "      <td>38.279999</td>\n",
       "      <td>37.450001</td>\n",
       "      <td>35.305672</td>\n",
       "    </tr>\n",
       "    <tr>\n",
       "      <th>1</th>\n",
       "      <td>2006-01-04</td>\n",
       "      <td>37.700001</td>\n",
       "      <td>37.700001</td>\n",
       "      <td>1928400</td>\n",
       "      <td>40.599998</td>\n",
       "      <td>39.200001</td>\n",
       "      <td>36.955467</td>\n",
       "    </tr>\n",
       "    <tr>\n",
       "      <th>2</th>\n",
       "      <td>2006-01-05</td>\n",
       "      <td>38.910000</td>\n",
       "      <td>39.180000</td>\n",
       "      <td>317900</td>\n",
       "      <td>39.709999</td>\n",
       "      <td>39.709999</td>\n",
       "      <td>37.436268</td>\n",
       "    </tr>\n",
       "    <tr>\n",
       "      <th>3</th>\n",
       "      <td>2006-01-06</td>\n",
       "      <td>38.139999</td>\n",
       "      <td>39.709999</td>\n",
       "      <td>349200</td>\n",
       "      <td>39.709999</td>\n",
       "      <td>39.000000</td>\n",
       "      <td>36.766914</td>\n",
       "    </tr>\n",
       "    <tr>\n",
       "      <th>4</th>\n",
       "      <td>2006-01-09</td>\n",
       "      <td>38.500000</td>\n",
       "      <td>38.799999</td>\n",
       "      <td>220800</td>\n",
       "      <td>38.880001</td>\n",
       "      <td>38.610001</td>\n",
       "      <td>36.399242</td>\n",
       "    </tr>\n",
       "    <tr>\n",
       "      <th>5</th>\n",
       "      <td>2006-01-10</td>\n",
       "      <td>37.400002</td>\n",
       "      <td>38.610001</td>\n",
       "      <td>191300</td>\n",
       "      <td>38.709999</td>\n",
       "      <td>37.799999</td>\n",
       "      <td>35.635628</td>\n",
       "    </tr>\n",
       "    <tr>\n",
       "      <th>6</th>\n",
       "      <td>2006-01-11</td>\n",
       "      <td>34.650002</td>\n",
       "      <td>37.799999</td>\n",
       "      <td>974300</td>\n",
       "      <td>37.799999</td>\n",
       "      <td>34.799999</td>\n",
       "      <td>32.807415</td>\n",
       "    </tr>\n",
       "    <tr>\n",
       "      <th>7</th>\n",
       "      <td>2006-01-12</td>\n",
       "      <td>32.959999</td>\n",
       "      <td>33.000000</td>\n",
       "      <td>2008900</td>\n",
       "      <td>35.349998</td>\n",
       "      <td>34.990002</td>\n",
       "      <td>32.986526</td>\n",
       "    </tr>\n",
       "    <tr>\n",
       "      <th>8</th>\n",
       "      <td>2006-01-13</td>\n",
       "      <td>33.310001</td>\n",
       "      <td>35.000000</td>\n",
       "      <td>734200</td>\n",
       "      <td>35.419998</td>\n",
       "      <td>34.049999</td>\n",
       "      <td>32.100342</td>\n",
       "    </tr>\n",
       "    <tr>\n",
       "      <th>9</th>\n",
       "      <td>2006-01-17</td>\n",
       "      <td>29.620001</td>\n",
       "      <td>33.549999</td>\n",
       "      <td>2351200</td>\n",
       "      <td>33.549999</td>\n",
       "      <td>30.000000</td>\n",
       "      <td>28.282244</td>\n",
       "    </tr>\n",
       "    <tr>\n",
       "      <th>10</th>\n",
       "      <td>2006-01-18</td>\n",
       "      <td>28.879999</td>\n",
       "      <td>29.100000</td>\n",
       "      <td>1773700</td>\n",
       "      <td>31.160000</td>\n",
       "      <td>31.000000</td>\n",
       "      <td>29.224985</td>\n",
       "    </tr>\n",
       "    <tr>\n",
       "      <th>11</th>\n",
       "      <td>2006-01-19</td>\n",
       "      <td>29.340000</td>\n",
       "      <td>30.799999</td>\n",
       "      <td>857200</td>\n",
       "      <td>31.240000</td>\n",
       "      <td>30.389999</td>\n",
       "      <td>28.649918</td>\n",
       "    </tr>\n",
       "    <tr>\n",
       "      <th>12</th>\n",
       "      <td>2006-01-20</td>\n",
       "      <td>28.600000</td>\n",
       "      <td>30.280001</td>\n",
       "      <td>788700</td>\n",
       "      <td>30.280001</td>\n",
       "      <td>29.240000</td>\n",
       "      <td>27.565760</td>\n",
       "    </tr>\n",
       "    <tr>\n",
       "      <th>13</th>\n",
       "      <td>2006-01-23</td>\n",
       "      <td>29.150000</td>\n",
       "      <td>29.490000</td>\n",
       "      <td>530800</td>\n",
       "      <td>30.049999</td>\n",
       "      <td>29.420000</td>\n",
       "      <td>27.735455</td>\n",
       "    </tr>\n",
       "    <tr>\n",
       "      <th>14</th>\n",
       "      <td>2006-01-24</td>\n",
       "      <td>29.750000</td>\n",
       "      <td>29.900000</td>\n",
       "      <td>648900</td>\n",
       "      <td>31.469999</td>\n",
       "      <td>31.020000</td>\n",
       "      <td>29.243839</td>\n",
       "    </tr>\n",
       "    <tr>\n",
       "      <th>15</th>\n",
       "      <td>2006-01-25</td>\n",
       "      <td>30.750000</td>\n",
       "      <td>31.150000</td>\n",
       "      <td>836300</td>\n",
       "      <td>31.510000</td>\n",
       "      <td>31.000000</td>\n",
       "      <td>29.224985</td>\n",
       "    </tr>\n",
       "    <tr>\n",
       "      <th>16</th>\n",
       "      <td>2006-01-26</td>\n",
       "      <td>30.000000</td>\n",
       "      <td>31.049999</td>\n",
       "      <td>313700</td>\n",
       "      <td>31.250000</td>\n",
       "      <td>30.250000</td>\n",
       "      <td>28.517929</td>\n",
       "    </tr>\n",
       "    <tr>\n",
       "      <th>17</th>\n",
       "      <td>2006-01-27</td>\n",
       "      <td>28.299999</td>\n",
       "      <td>30.200001</td>\n",
       "      <td>518600</td>\n",
       "      <td>30.200001</td>\n",
       "      <td>28.889999</td>\n",
       "      <td>27.235802</td>\n",
       "    </tr>\n",
       "    <tr>\n",
       "      <th>18</th>\n",
       "      <td>2006-01-30</td>\n",
       "      <td>28.730000</td>\n",
       "      <td>28.730000</td>\n",
       "      <td>917300</td>\n",
       "      <td>29.580000</td>\n",
       "      <td>29.000000</td>\n",
       "      <td>27.339504</td>\n",
       "    </tr>\n",
       "    <tr>\n",
       "      <th>19</th>\n",
       "      <td>2006-01-31</td>\n",
       "      <td>29.010000</td>\n",
       "      <td>29.170000</td>\n",
       "      <td>490600</td>\n",
       "      <td>30.410000</td>\n",
       "      <td>29.340000</td>\n",
       "      <td>27.660040</td>\n",
       "    </tr>\n",
       "  </tbody>\n",
       "</table>\n",
       "</div>"
      ],
      "text/plain": [
       "          Date        Low       Open   Volume       High      Close  \\\n",
       "0   2006-01-03  36.849998  37.200001  1013200  38.279999  37.450001   \n",
       "1   2006-01-04  37.700001  37.700001  1928400  40.599998  39.200001   \n",
       "2   2006-01-05  38.910000  39.180000   317900  39.709999  39.709999   \n",
       "3   2006-01-06  38.139999  39.709999   349200  39.709999  39.000000   \n",
       "4   2006-01-09  38.500000  38.799999   220800  38.880001  38.610001   \n",
       "5   2006-01-10  37.400002  38.610001   191300  38.709999  37.799999   \n",
       "6   2006-01-11  34.650002  37.799999   974300  37.799999  34.799999   \n",
       "7   2006-01-12  32.959999  33.000000  2008900  35.349998  34.990002   \n",
       "8   2006-01-13  33.310001  35.000000   734200  35.419998  34.049999   \n",
       "9   2006-01-17  29.620001  33.549999  2351200  33.549999  30.000000   \n",
       "10  2006-01-18  28.879999  29.100000  1773700  31.160000  31.000000   \n",
       "11  2006-01-19  29.340000  30.799999   857200  31.240000  30.389999   \n",
       "12  2006-01-20  28.600000  30.280001   788700  30.280001  29.240000   \n",
       "13  2006-01-23  29.150000  29.490000   530800  30.049999  29.420000   \n",
       "14  2006-01-24  29.750000  29.900000   648900  31.469999  31.020000   \n",
       "15  2006-01-25  30.750000  31.150000   836300  31.510000  31.000000   \n",
       "16  2006-01-26  30.000000  31.049999   313700  31.250000  30.250000   \n",
       "17  2006-01-27  28.299999  30.200001   518600  30.200001  28.889999   \n",
       "18  2006-01-30  28.730000  28.730000   917300  29.580000  29.000000   \n",
       "19  2006-01-31  29.010000  29.170000   490600  30.410000  29.340000   \n",
       "\n",
       "    Adjusted Close  \n",
       "0        35.305672  \n",
       "1        36.955467  \n",
       "2        37.436268  \n",
       "3        36.766914  \n",
       "4        36.399242  \n",
       "5        35.635628  \n",
       "6        32.807415  \n",
       "7        32.986526  \n",
       "8        32.100342  \n",
       "9        28.282244  \n",
       "10       29.224985  \n",
       "11       28.649918  \n",
       "12       27.565760  \n",
       "13       27.735455  \n",
       "14       29.243839  \n",
       "15       29.224985  \n",
       "16       28.517929  \n",
       "17       27.235802  \n",
       "18       27.339504  \n",
       "19       27.660040  "
      ]
     },
     "execution_count": 18,
     "metadata": {},
     "output_type": "execute_result"
    }
   ],
   "source": [
    "df = pd.read_csv(\"../clean_AAL.csv\")\n",
    "df.head(20)"
   ]
  },
  {
   "cell_type": "markdown",
   "id": "cad82030",
   "metadata": {
    "papermill": {
     "duration": 0.009547,
     "end_time": "2025-10-01T04:32:18.647836",
     "exception": false,
     "start_time": "2025-10-01T04:32:18.638289",
     "status": "completed"
    },
    "tags": []
   },
   "source": [
    "1. Feature Selection\n",
    "   To display the basic statistics for each column. This is useful for detecting if there are variables that do not vary and if so such variables should be removed. The variable is constant overtime is not predictive of the target."
   ]
  },
  {
   "cell_type": "code",
   "execution_count": 19,
   "id": "87ae7c61",
   "metadata": {
    "execution": {
     "iopub.execute_input": "2025-10-01T04:32:18.668783Z",
     "iopub.status.busy": "2025-10-01T04:32:18.668408Z",
     "iopub.status.idle": "2025-10-01T04:32:18.698297Z",
     "shell.execute_reply": "2025-10-01T04:32:18.697284Z"
    },
    "papermill": {
     "duration": 0.042188,
     "end_time": "2025-10-01T04:32:18.699896",
     "exception": false,
     "start_time": "2025-10-01T04:32:18.657708",
     "status": "completed"
    },
    "tags": []
   },
   "outputs": [
    {
     "data": {
      "text/html": [
       "<div>\n",
       "<style scoped>\n",
       "    .dataframe tbody tr th:only-of-type {\n",
       "        vertical-align: middle;\n",
       "    }\n",
       "\n",
       "    .dataframe tbody tr th {\n",
       "        vertical-align: top;\n",
       "    }\n",
       "\n",
       "    .dataframe thead th {\n",
       "        text-align: right;\n",
       "    }\n",
       "</style>\n",
       "<table border=\"1\" class=\"dataframe\">\n",
       "  <thead>\n",
       "    <tr style=\"text-align: right;\">\n",
       "      <th></th>\n",
       "      <th>count</th>\n",
       "      <th>mean</th>\n",
       "      <th>std</th>\n",
       "      <th>min</th>\n",
       "      <th>25%</th>\n",
       "      <th>50%</th>\n",
       "      <th>75%</th>\n",
       "      <th>max</th>\n",
       "    </tr>\n",
       "  </thead>\n",
       "  <tbody>\n",
       "    <tr>\n",
       "      <th>Low</th>\n",
       "      <td>4266.0</td>\n",
       "      <td>2.488723e+01</td>\n",
       "      <td>1.580789e+01</td>\n",
       "      <td>1.450000</td>\n",
       "      <td>1.053500e+01</td>\n",
       "      <td>2.133500e+01</td>\n",
       "      <td>3.914000e+01</td>\n",
       "      <td>6.200000e+01</td>\n",
       "    </tr>\n",
       "    <tr>\n",
       "      <th>Open</th>\n",
       "      <td>4266.0</td>\n",
       "      <td>2.538824e+01</td>\n",
       "      <td>1.600633e+01</td>\n",
       "      <td>1.810000</td>\n",
       "      <td>1.082250e+01</td>\n",
       "      <td>2.189000e+01</td>\n",
       "      <td>3.974500e+01</td>\n",
       "      <td>6.270000e+01</td>\n",
       "    </tr>\n",
       "    <tr>\n",
       "      <th>Volume</th>\n",
       "      <td>4266.0</td>\n",
       "      <td>1.458939e+07</td>\n",
       "      <td>2.207456e+07</td>\n",
       "      <td>191300.000000</td>\n",
       "      <td>4.749500e+06</td>\n",
       "      <td>7.557550e+06</td>\n",
       "      <td>1.352832e+07</td>\n",
       "      <td>4.286171e+08</td>\n",
       "    </tr>\n",
       "    <tr>\n",
       "      <th>High</th>\n",
       "      <td>4266.0</td>\n",
       "      <td>2.585412e+01</td>\n",
       "      <td>1.619366e+01</td>\n",
       "      <td>2.030000</td>\n",
       "      <td>1.111250e+01</td>\n",
       "      <td>2.224000e+01</td>\n",
       "      <td>4.029750e+01</td>\n",
       "      <td>6.327000e+01</td>\n",
       "    </tr>\n",
       "    <tr>\n",
       "      <th>Close</th>\n",
       "      <td>4266.0</td>\n",
       "      <td>2.535673e+01</td>\n",
       "      <td>1.600430e+01</td>\n",
       "      <td>1.760000</td>\n",
       "      <td>1.079250e+01</td>\n",
       "      <td>2.181500e+01</td>\n",
       "      <td>3.970500e+01</td>\n",
       "      <td>6.295000e+01</td>\n",
       "    </tr>\n",
       "    <tr>\n",
       "      <th>Adjusted Close</th>\n",
       "      <td>4266.0</td>\n",
       "      <td>2.439955e+01</td>\n",
       "      <td>1.533443e+01</td>\n",
       "      <td>1.659225</td>\n",
       "      <td>1.024113e+01</td>\n",
       "      <td>2.143500e+01</td>\n",
       "      <td>3.797598e+01</td>\n",
       "      <td>5.934557e+01</td>\n",
       "    </tr>\n",
       "  </tbody>\n",
       "</table>\n",
       "</div>"
      ],
      "text/plain": [
       "                 count          mean           std            min  \\\n",
       "Low             4266.0  2.488723e+01  1.580789e+01       1.450000   \n",
       "Open            4266.0  2.538824e+01  1.600633e+01       1.810000   \n",
       "Volume          4266.0  1.458939e+07  2.207456e+07  191300.000000   \n",
       "High            4266.0  2.585412e+01  1.619366e+01       2.030000   \n",
       "Close           4266.0  2.535673e+01  1.600430e+01       1.760000   \n",
       "Adjusted Close  4266.0  2.439955e+01  1.533443e+01       1.659225   \n",
       "\n",
       "                         25%           50%           75%           max  \n",
       "Low             1.053500e+01  2.133500e+01  3.914000e+01  6.200000e+01  \n",
       "Open            1.082250e+01  2.189000e+01  3.974500e+01  6.270000e+01  \n",
       "Volume          4.749500e+06  7.557550e+06  1.352832e+07  4.286171e+08  \n",
       "High            1.111250e+01  2.224000e+01  4.029750e+01  6.327000e+01  \n",
       "Close           1.079250e+01  2.181500e+01  3.970500e+01  6.295000e+01  \n",
       "Adjusted Close  1.024113e+01  2.143500e+01  3.797598e+01  5.934557e+01  "
      ]
     },
     "execution_count": 19,
     "metadata": {},
     "output_type": "execute_result"
    }
   ],
   "source": [
    "df.describe().T"
   ]
  },
  {
   "cell_type": "markdown",
   "id": "54f83afd",
   "metadata": {
    "papermill": {
     "duration": 0.010104,
     "end_time": "2025-10-01T04:32:18.778579",
     "exception": false,
     "start_time": "2025-10-01T04:32:18.768475",
     "status": "completed"
    },
    "tags": []
   },
   "source": [
    "## Identify the seasonal period\n",
    "* Some months or time of the years show recurring patterns. Example Sep often performs poorly and other months may do better.\n",
    "* Why its matters: its based on historical event (looking at past years). Not sure about the future but as a guide some traders use. They may decide: buy during strong months or sell during weak month also when to buy dips to catch the lower prices.\n"
   ]
  },
  {
   "cell_type": "code",
   "execution_count": 20,
   "id": "57b7201d",
   "metadata": {
    "execution": {
     "iopub.execute_input": "2025-10-01T04:32:18.800094Z",
     "iopub.status.busy": "2025-10-01T04:32:18.799739Z",
     "iopub.status.idle": "2025-10-01T04:32:18.818888Z",
     "shell.execute_reply": "2025-10-01T04:32:18.817744Z"
    },
    "papermill": {
     "duration": 0.032329,
     "end_time": "2025-10-01T04:32:18.820933",
     "exception": false,
     "start_time": "2025-10-01T04:32:18.788604",
     "status": "completed"
    },
    "tags": []
   },
   "outputs": [],
   "source": [
    "# check for patterns: plot mean close per month and close per year\n",
    "df[\"Date\"] = pd.to_datetime(df[\"Date\"])\n",
    "\n",
    "# extract month and year from date column\n",
    "df[\"Month\"] = df[\"Date\"].dt.month\n",
    "df[\"Year\"] = df[\"Date\"].dt.year\n",
    "\n",
    "monthly_mean = df.groupby([\"Month\"])[\"Close\"].mean().reset_index()\n",
    "\n",
    "yearly_mean = df.groupby([\"Year\"])[\"Close\"].mean().reset_index()\n"
   ]
  },
  {
   "cell_type": "code",
   "execution_count": 21,
   "id": "d434b717",
   "metadata": {
    "execution": {
     "iopub.execute_input": "2025-10-01T04:32:18.842933Z",
     "iopub.status.busy": "2025-10-01T04:32:18.842601Z",
     "iopub.status.idle": "2025-10-01T04:32:18.853275Z",
     "shell.execute_reply": "2025-10-01T04:32:18.851951Z"
    },
    "papermill": {
     "duration": 0.02355,
     "end_time": "2025-10-01T04:32:18.855043",
     "exception": false,
     "start_time": "2025-10-01T04:32:18.831493",
     "status": "completed"
    },
    "tags": []
   },
   "outputs": [
    {
     "data": {
      "text/html": [
       "<div>\n",
       "<style scoped>\n",
       "    .dataframe tbody tr th:only-of-type {\n",
       "        vertical-align: middle;\n",
       "    }\n",
       "\n",
       "    .dataframe tbody tr th {\n",
       "        vertical-align: top;\n",
       "    }\n",
       "\n",
       "    .dataframe thead th {\n",
       "        text-align: right;\n",
       "    }\n",
       "</style>\n",
       "<table border=\"1\" class=\"dataframe\">\n",
       "  <thead>\n",
       "    <tr style=\"text-align: right;\">\n",
       "      <th></th>\n",
       "      <th>Month</th>\n",
       "      <th>Close</th>\n",
       "    </tr>\n",
       "  </thead>\n",
       "  <tbody>\n",
       "    <tr>\n",
       "      <th>0</th>\n",
       "      <td>1</td>\n",
       "      <td>27.501545</td>\n",
       "    </tr>\n",
       "    <tr>\n",
       "      <th>1</th>\n",
       "      <td>2</td>\n",
       "      <td>27.312301</td>\n",
       "    </tr>\n",
       "    <tr>\n",
       "      <th>2</th>\n",
       "      <td>3</td>\n",
       "      <td>26.263324</td>\n",
       "    </tr>\n",
       "    <tr>\n",
       "      <th>3</th>\n",
       "      <td>4</td>\n",
       "      <td>25.501880</td>\n",
       "    </tr>\n",
       "    <tr>\n",
       "      <th>4</th>\n",
       "      <td>5</td>\n",
       "      <td>25.268106</td>\n",
       "    </tr>\n",
       "    <tr>\n",
       "      <th>5</th>\n",
       "      <td>6</td>\n",
       "      <td>24.701071</td>\n",
       "    </tr>\n",
       "    <tr>\n",
       "      <th>6</th>\n",
       "      <td>7</td>\n",
       "      <td>24.789972</td>\n",
       "    </tr>\n",
       "    <tr>\n",
       "      <th>7</th>\n",
       "      <td>8</td>\n",
       "      <td>23.683342</td>\n",
       "    </tr>\n",
       "    <tr>\n",
       "      <th>8</th>\n",
       "      <td>9</td>\n",
       "      <td>23.654870</td>\n",
       "    </tr>\n",
       "    <tr>\n",
       "      <th>9</th>\n",
       "      <td>10</td>\n",
       "      <td>24.397701</td>\n",
       "    </tr>\n",
       "    <tr>\n",
       "      <th>10</th>\n",
       "      <td>11</td>\n",
       "      <td>25.398879</td>\n",
       "    </tr>\n",
       "    <tr>\n",
       "      <th>11</th>\n",
       "      <td>12</td>\n",
       "      <td>26.159812</td>\n",
       "    </tr>\n",
       "  </tbody>\n",
       "</table>\n",
       "</div>"
      ],
      "text/plain": [
       "    Month      Close\n",
       "0       1  27.501545\n",
       "1       2  27.312301\n",
       "2       3  26.263324\n",
       "3       4  25.501880\n",
       "4       5  25.268106\n",
       "5       6  24.701071\n",
       "6       7  24.789972\n",
       "7       8  23.683342\n",
       "8       9  23.654870\n",
       "9      10  24.397701\n",
       "10     11  25.398879\n",
       "11     12  26.159812"
      ]
     },
     "execution_count": 21,
     "metadata": {},
     "output_type": "execute_result"
    }
   ],
   "source": [
    "monthly_mean"
   ]
  },
  {
   "cell_type": "code",
   "execution_count": 22,
   "id": "3399cdc4",
   "metadata": {
    "execution": {
     "iopub.execute_input": "2025-10-01T04:32:18.876804Z",
     "iopub.status.busy": "2025-10-01T04:32:18.876513Z",
     "iopub.status.idle": "2025-10-01T04:32:19.202424Z",
     "shell.execute_reply": "2025-10-01T04:32:19.201388Z"
    },
    "papermill": {
     "duration": 0.338738,
     "end_time": "2025-10-01T04:32:19.204248",
     "exception": false,
     "start_time": "2025-10-01T04:32:18.865510",
     "status": "completed"
    },
    "tags": []
   },
   "outputs": [
    {
     "data": {
      "image/png": "[encoded data removed]",
      "text/plain": [
       "<Figure size 1000x400 with 1 Axes>"
      ]
     },
     "metadata": {},
     "output_type": "display_data"
    }
   ],
   "source": [
    "# plot the mean close price per month\n",
    "ax = sns.barplot(data=monthly_mean, x=\"Month\", y=\"Close\", palette=\"Set3\")\n",
    "\n",
    "plt.title(\"Mean close price per month\")\n",
    "plt.xlabel(\"Month\")\n",
    "plt.ylabel(\"Mean close price\")\n",
    "\n",
    "plt.xticks(range(0,12), labels=[\"Jan\",\"Feb\",\"Mar\",\"Apr\",\"May\",\"Jun\",\"Jul\",\"Aug\",\"Sep\",\"Oct\",\"Nov\",\"Dec\"])\n",
    "plt.legend(title=\"Year\")\n",
    "\n",
    "for bar in ax.containers:\n",
    "    ax.bar_label(bar, fontsize=9, fmt=\"%.2f\")\n",
    "plt.show()\n"
   ]
  },
  {
   "cell_type": "markdown",
   "id": "21a5fd96",
   "metadata": {
    "papermill": {
     "duration": 0.010469,
     "end_time": "2025-10-01T04:32:19.229949",
     "exception": false,
     "start_time": "2025-10-01T04:32:19.219480",
     "status": "completed"
    },
    "tags": []
   },
   "source": [
    "**Figure**: Mean close price don't change much for all months"
   ]
  },
  {
   "cell_type": "code",
   "execution_count": 23,
   "id": "a9f7cabf",
   "metadata": {
    "execution": {
     "iopub.execute_input": "2025-10-01T04:32:19.253140Z",
     "iopub.status.busy": "2025-10-01T04:32:19.252738Z",
     "iopub.status.idle": "2025-10-01T04:32:19.262238Z",
     "shell.execute_reply": "2025-10-01T04:32:19.261283Z"
    },
    "papermill": {
     "duration": 0.022974,
     "end_time": "2025-10-01T04:32:19.263888",
     "exception": false,
     "start_time": "2025-10-01T04:32:19.240914",
     "status": "completed"
    },
    "tags": []
   },
   "outputs": [
    {
     "data": {
      "text/html": [
       "<div>\n",
       "<style scoped>\n",
       "    .dataframe tbody tr th:only-of-type {\n",
       "        vertical-align: middle;\n",
       "    }\n",
       "\n",
       "    .dataframe tbody tr th {\n",
       "        vertical-align: top;\n",
       "    }\n",
       "\n",
       "    .dataframe thead th {\n",
       "        text-align: right;\n",
       "    }\n",
       "</style>\n",
       "<table border=\"1\" class=\"dataframe\">\n",
       "  <thead>\n",
       "    <tr style=\"text-align: right;\">\n",
       "      <th></th>\n",
       "      <th>Year</th>\n",
       "      <th>Close</th>\n",
       "    </tr>\n",
       "  </thead>\n",
       "  <tbody>\n",
       "    <tr>\n",
       "      <th>0</th>\n",
       "      <td>2006</td>\n",
       "      <td>44.322390</td>\n",
       "    </tr>\n",
       "    <tr>\n",
       "      <th>1</th>\n",
       "      <td>2007</td>\n",
       "      <td>35.671952</td>\n",
       "    </tr>\n",
       "    <tr>\n",
       "      <th>2</th>\n",
       "      <td>2008</td>\n",
       "      <td>7.742134</td>\n",
       "    </tr>\n",
       "    <tr>\n",
       "      <th>3</th>\n",
       "      <td>2009</td>\n",
       "      <td>3.829643</td>\n",
       "    </tr>\n",
       "    <tr>\n",
       "      <th>4</th>\n",
       "      <td>2010</td>\n",
       "      <td>8.636667</td>\n",
       "    </tr>\n",
       "    <tr>\n",
       "      <th>5</th>\n",
       "      <td>2011</td>\n",
       "      <td>7.459841</td>\n",
       "    </tr>\n",
       "    <tr>\n",
       "      <th>6</th>\n",
       "      <td>2012</td>\n",
       "      <td>10.496160</td>\n",
       "    </tr>\n",
       "    <tr>\n",
       "      <th>7</th>\n",
       "      <td>2013</td>\n",
       "      <td>18.187936</td>\n",
       "    </tr>\n",
       "    <tr>\n",
       "      <th>8</th>\n",
       "      <td>2014</td>\n",
       "      <td>38.923651</td>\n",
       "    </tr>\n",
       "    <tr>\n",
       "      <th>9</th>\n",
       "      <td>2015</td>\n",
       "      <td>45.122103</td>\n",
       "    </tr>\n",
       "    <tr>\n",
       "      <th>10</th>\n",
       "      <td>2016</td>\n",
       "      <td>38.183849</td>\n",
       "    </tr>\n",
       "    <tr>\n",
       "      <th>11</th>\n",
       "      <td>2017</td>\n",
       "      <td>47.490717</td>\n",
       "    </tr>\n",
       "    <tr>\n",
       "      <th>12</th>\n",
       "      <td>2018</td>\n",
       "      <td>42.801952</td>\n",
       "    </tr>\n",
       "    <tr>\n",
       "      <th>13</th>\n",
       "      <td>2019</td>\n",
       "      <td>30.879326</td>\n",
       "    </tr>\n",
       "    <tr>\n",
       "      <th>14</th>\n",
       "      <td>2020</td>\n",
       "      <td>15.280395</td>\n",
       "    </tr>\n",
       "    <tr>\n",
       "      <th>15</th>\n",
       "      <td>2021</td>\n",
       "      <td>20.343214</td>\n",
       "    </tr>\n",
       "    <tr>\n",
       "      <th>16</th>\n",
       "      <td>2022</td>\n",
       "      <td>15.404769</td>\n",
       "    </tr>\n",
       "  </tbody>\n",
       "</table>\n",
       "</div>"
      ],
      "text/plain": [
       "    Year      Close\n",
       "0   2006  44.322390\n",
       "1   2007  35.671952\n",
       "2   2008   7.742134\n",
       "3   2009   3.829643\n",
       "4   2010   8.636667\n",
       "5   2011   7.459841\n",
       "6   2012  10.496160\n",
       "7   2013  18.187936\n",
       "8   2014  38.923651\n",
       "9   2015  45.122103\n",
       "10  2016  38.183849\n",
       "11  2017  47.490717\n",
       "12  2018  42.801952\n",
       "13  2019  30.879326\n",
       "14  2020  15.280395\n",
       "15  2021  20.343214\n",
       "16  2022  15.404769"
      ]
     },
     "execution_count": 23,
     "metadata": {},
     "output_type": "execute_result"
    }
   ],
   "source": [
    "yearly_mean"
   ]
  },
  {
   "cell_type": "code",
   "execution_count": 24,
   "id": "280bf037",
   "metadata": {
    "execution": {
     "iopub.execute_input": "2025-10-01T04:32:19.287449Z",
     "iopub.status.busy": "2025-10-01T04:32:19.287090Z",
     "iopub.status.idle": "2025-10-01T04:32:19.633552Z",
     "shell.execute_reply": "2025-10-01T04:32:19.632470Z"
    },
    "papermill": {
     "duration": 0.360127,
     "end_time": "2025-10-01T04:32:19.635340",
     "exception": false,
     "start_time": "2025-10-01T04:32:19.275213",
     "status": "completed"
    },
    "tags": []
   },
   "outputs": [
    {
     "data": {
      "image/png": "[encoded data removed]",
      "text/plain": [
       "<Figure size 1000x400 with 1 Axes>"
      ]
     },
     "metadata": {},
     "output_type": "display_data"
    }
   ],
   "source": [
    "first_years = yearly_mean[\"Year\"].tolist()\n",
    "\n",
    "# plot the mean close price per month\n",
    "ax = sns.barplot(data=yearly_mean, x=\"Year\", y=\"Close\", palette=\"Set3\")\n",
    "\n",
    "plt.title(\"Mean close price per year\")\n",
    "plt.xlabel(\"Year\")\n",
    "plt.ylabel(\"Mean close price\")\n",
    "\n",
    "plt.xticks(range(0,len(first_years)), labels = first_years)\n",
    "plt.legend(title=\"Year\")\n",
    "\n",
    "for bar in ax.containers:\n",
    "    ax.bar_label(bar, fontsize=11, fmt=\"%.2f\")\n",
    "\n",
    "plt.show()\n"
   ]
  },
  {
   "cell_type": "markdown",
   "id": "59c1f002",
   "metadata": {
    "papermill": {
     "duration": 0.011256,
     "end_time": "2025-10-01T04:32:19.658570",
     "exception": false,
     "start_time": "2025-10-01T04:32:19.647314",
     "status": "completed"
    },
    "tags": []
   },
   "source": [
    "**Figure**: year 2009 have the lowest close price, year 2017 have the highest close price."
   ]
  },
  {
   "cell_type": "code",
   "execution_count": 25,
   "id": "b21b0633",
   "metadata": {
    "execution": {
     "iopub.execute_input": "2025-10-01T04:32:19.683406Z",
     "iopub.status.busy": "2025-10-01T04:32:19.682937Z",
     "iopub.status.idle": "2025-10-01T04:32:20.449122Z",
     "shell.execute_reply": "2025-10-01T04:32:20.447890Z"
    },
    "papermill": {
     "duration": 0.780421,
     "end_time": "2025-10-01T04:32:20.450767",
     "exception": false,
     "start_time": "2025-10-01T04:32:19.670346",
     "status": "completed"
    },
    "tags": []
   },
   "outputs": [
    {
     "data": {
      "image/png": "[encoded data removed]",
      "text/plain": [
       "<Figure size 1200x600 with 1 Axes>"
      ]
     },
     "metadata": {},
     "output_type": "display_data"
    }
   ],
   "source": [
    "# use lineplot to illustrate both 2009,2017 to examinate\n",
    "plt.figure(figsize=(12,6))\n",
    "\n",
    "filtered_df = df[df[\"Year\"].isin([2009,2017])]\n",
    "sns.lineplot(data=filtered_df, x=\"Month\",y=\"Close\",hue=\"Year\", palette=\"Set3\" )\n",
    "\n",
    "plt.title(\"Mean close price per month\")\n",
    "plt.xlabel(\"Month\")\n",
    "plt.ylabel(\"Mean close price\")\n",
    "\n",
    "plt.xticks(range(1,13), labels=[\"Jan\", \"Feb\", \"Mar\", \"Apr\", \"May\", \"Jun\", \"Jul\", \"Aug\", \"Sep\", \"Oct\", \"Nov\", \"Dec\"])\n",
    "plt.legend(title=\"Year\")\n",
    "plt.show()\n",
    "\n"
   ]
  },
  {
   "cell_type": "markdown",
   "id": "e1ff030c",
   "metadata": {
    "papermill": {
     "duration": 0.012351,
     "end_time": "2025-10-01T04:32:20.476293",
     "exception": false,
     "start_time": "2025-10-01T04:32:20.463942",
     "status": "completed"
    },
    "tags": []
   },
   "source": [
    "**Figure**: chart showing the mean close price per years(2009,2017)"
   ]
  },
  {
   "cell_type": "markdown",
   "id": "142ee5e1",
   "metadata": {
    "papermill": {
     "duration": 0.012259,
     "end_time": "2025-10-01T04:32:20.501366",
     "exception": false,
     "start_time": "2025-10-01T04:32:20.489107",
     "status": "completed"
    },
    "tags": []
   },
   "source": [
    "We know that capture information from the previous seasonal cycle can help us forecast our time series. Therefore, it is important to determine ways to identify seasonality in time series. Usually, plotting the time series data is enough to observe periodic patterns.\n",
    "\n",
    "We can plot our target to see if we can visually detect any seasonality."
   ]
  },
  {
   "cell_type": "markdown",
   "id": "cdf73ca7",
   "metadata": {
    "papermill": {
     "duration": 0.013648,
     "end_time": "2025-10-01T04:32:20.527456",
     "exception": false,
     "start_time": "2025-10-01T04:32:20.513808",
     "status": "completed"
    },
    "tags": []
   },
   "source": [
    "**Yearly Seasonality**\n",
    "\n",
    "Yearly cyclic behavior refers to a repeating pattern or trend that orrcurs within each year. Without this pattern, suggest that the stock market data does not exhbit consistent fluctuations or variations that occur predictably each ýear. \n"
   ]
  },
  {
   "cell_type": "code",
   "execution_count": 26,
   "id": "2441f28d",
   "metadata": {
    "execution": {
     "iopub.execute_input": "2025-10-01T04:32:20.554365Z",
     "iopub.status.busy": "2025-10-01T04:32:20.553774Z",
     "iopub.status.idle": "2025-10-01T04:32:20.877226Z",
     "shell.execute_reply": "2025-10-01T04:32:20.876052Z"
    },
    "papermill": {
     "duration": 0.338882,
     "end_time": "2025-10-01T04:32:20.879109",
     "exception": false,
     "start_time": "2025-10-01T04:32:20.540227",
     "status": "completed"
    },
    "tags": []
   },
   "outputs": [
    {
     "data": {
      "image/png": "[encoded data removed]",
      "text/plain": [
       "<Figure size 1000x400 with 1 Axes>"
      ]
     },
     "metadata": {},
     "output_type": "display_data"
    },
    {
     "data": {
      "text/plain": [
       "<Figure size 1000x500 with 0 Axes>"
      ]
     },
     "metadata": {},
     "output_type": "display_data"
    }
   ],
   "source": [
    "fig, ax = plt.subplots()\n",
    "\n",
    "ax.plot(df[\"Close\"])\n",
    "for i in np.arange(0, len(df),260):\n",
    "    ax.axvline(x=i, linestyle=\"--\",color=\"black\",linewidth=1)\n",
    "\n",
    "plt.title(\"Yearly Seasonality\")\n",
    "plt.xlabel(\"Year\")\n",
    "plt.ylabel(\"Seasonal Component\")\n",
    "\n",
    "plt.xticks(np.arange(67, len(df),260), np.arange(2006,2023,1))\n",
    "plt.figure(figsize=(10,5))\n",
    "\n",
    "fig.autofmt_xdate()\n",
    "plt.tight_layout()\n"
   ]
  },
  {
   "cell_type": "markdown",
   "id": "ac297ec1",
   "metadata": {
    "papermill": {
     "duration": 0.014135,
     "end_time": "2025-10-01T04:32:20.907623",
     "exception": false,
     "start_time": "2025-10-01T04:32:20.893488",
     "status": "completed"
    },
    "tags": []
   },
   "source": [
    "**Figure**: Seasonal pattern in yearly closing price.The dashed vertical line separate periods of 260 working days per year\n",
    "\n",
    "We can see the yearly closing price doees not show any cyclic behavior. So there is no yearly seasonal pattern. We can identifying seasonal pattern in time series using time series decomposition. We can achive that with tsa.seasonal_decompose function from the statsmodels library "
   ]
  },
  {
   "cell_type": "markdown",
   "id": "b52c9634",
   "metadata": {
    "papermill": {
     "duration": 0.013769,
     "end_time": "2025-10-01T04:32:20.935553",
     "exception": false,
     "start_time": "2025-10-01T04:32:20.921784",
     "status": "completed"
    },
    "tags": []
   },
   "source": [
    "**Monthly Seasonality**\n",
    "\n",
    "Monthly cyclic behavior refers to a repeating pattern or trend that occurs within each month. It suggests that there are consistent fluctuations or variations in the stock market data that repeat on a monthly basis. This could be due to various factors, such as economic events, market sentiment, or trading patterns that occur within specific months."
   ]
  },
  {
   "cell_type": "code",
   "execution_count": null,
   "id": "9224d676",
   "metadata": {
    "papermill": {
     "duration": 0.013785,
     "end_time": "2025-10-01T04:32:20.963566",
     "exception": false,
     "start_time": "2025-10-01T04:32:20.949781",
     "status": "completed"
    },
    "tags": []
   },
   "outputs": [],
   "source": []
  }
 ],
 "metadata": {
  "kaggle": {
   "accelerator": "none",
   "dataSources": [
    {
     "datasetId": 1125174,
     "sourceId": 4861155,
     "sourceType": "datasetVersion"
    }
   ],
   "dockerImageVersionId": 31089,
   "isGpuEnabled": false,
   "isInternetEnabled": false,
   "language": "python",
   "sourceType": "notebook"
  },
  "kernelspec": {
   "display_name": "Python 3",
   "language": "python",
   "name": "python3"
  },
  "language_info": {
   "codemirror_mode": {
    "name": "ipython",
    "version": 3
   },
   "file_extension": ".py",
   "mimetype": "text/x-python",
   "name": "python",
   "nbconvert_exporter": "python",
   "pygments_lexer": "ipython3",
   "version": "3.11.13"
  },
  "papermill": {
   "default_parameters": {},
   "duration": 64.018954,
   "end_time": "2025-10-01T04:32:24.332569",
   "environment_variables": {},
   "exception": null,
   "input_path": "__notebook__.ipynb",
   "output_path": "__notebook__.ipynb",
   "parameters": {},
   "start_time": "2025-10-01T04:31:20.313615",
   "version": "2.6.0"
  }
 },
 "nbformat": 4,
 "nbformat_minor": 5
}

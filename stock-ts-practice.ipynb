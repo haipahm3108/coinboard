{
 "cells": [
  {
   "cell_type": "code",
   "execution_count": 1,
   "id": "0d096c59",
   "metadata": {
    "_cell_guid": "b1076dfc-b9ad-4769-8c92-a6c4dae69d19",
    "_uuid": "8f2839f25d086af736a60e9eeb907d3b93b6e0e5",
    "execution": {
     "iopub.execute_input": "2025-09-30T03:48:27.806700Z",
     "iopub.status.busy": "2025-09-30T03:48:27.806255Z",
     "iopub.status.idle": "2025-09-30T03:48:40.798425Z",
     "shell.execute_reply": "2025-09-30T03:48:40.797037Z"
    },
    "papermill": {
     "duration": 13.002383,
     "end_time": "2025-09-30T03:48:40.800256",
     "exception": false,
     "start_time": "2025-09-30T03:48:27.797873",
     "status": "completed"
    },
    "tags": []
   },
   "outputs": [],
   "source": [
    "# This Python 3 environment comes with many helpful analytics libraries installed\n",
    "# It is defined by the kaggle/python Docker image: https://github.com/kaggle/docker-python\n",
    "# For example, here's several helpful packages to load\n",
    "\n",
    "import numpy as np # linear algebra\n",
    "import pandas as pd # data processing, CSV file I/O (e.g. pd.read_csv)\n",
    "\n",
    "# Input data files are available in the read-only \"../input/\" directory\n",
    "# For example, running this (by clicking run or pressing Shift+Enter) will list all files under the input directory\n",
    "\n",
    "import os\n",
    "for dirname, _, filenames in os.walk('/kaggle/input'):\n",
    "    for filename in filenames:\n",
    "        pass\n",
    "        #print(os.path.join(dirname, filename))\n",
    "\n",
    "# You can write up to 20GB to the current directory (/kaggle/working/) that gets preserved as output when you create a version using \"Save & Run All\" \n",
    "# You can also write temporary files to /kaggle/temp/, but they won't be saved outside of the current session"
   ]
  },
  {
   "cell_type": "code",
   "execution_count": 2,
   "id": "2050ab10",
   "metadata": {
    "execution": {
     "iopub.execute_input": "2025-09-30T03:48:40.815525Z",
     "iopub.status.busy": "2025-09-30T03:48:40.815029Z",
     "iopub.status.idle": "2025-09-30T03:49:02.996845Z",
     "shell.execute_reply": "2025-09-30T03:49:02.995449Z"
    },
    "papermill": {
     "duration": 22.191738,
     "end_time": "2025-09-30T03:49:02.998809",
     "exception": false,
     "start_time": "2025-09-30T03:48:40.807071",
     "status": "completed"
    },
    "tags": []
   },
   "outputs": [
    {
     "name": "stderr",
     "output_type": "stream",
     "text": [
      "2025-09-30 03:48:42.941941: E external/local_xla/xla/stream_executor/cuda/cuda_fft.cc:477] Unable to register cuFFT factory: Attempting to register factory for plugin cuFFT when one has already been registered\n",
      "WARNING: All log messages before absl::InitializeLog() is called are written to STDERR\n",
      "E0000 00:00:1759204123.197209      13 cuda_dnn.cc:8310] Unable to register cuDNN factory: Attempting to register factory for plugin cuDNN when one has already been registered\n",
      "E0000 00:00:1759204123.268977      13 cuda_blas.cc:1418] Unable to register cuBLAS factory: Attempting to register factory for plugin cuBLAS when one has already been registered\n"
     ]
    }
   ],
   "source": [
    "import numpy as np\n",
    "import pandas as pd\n",
    "import tensorflow as tf\n",
    "import matplotlib.pyplot as plt\n",
    "import matplotlib.font_manager as font_manager\n",
    "import seaborn as sns\n",
    "import datetime\n",
    "\n",
    "from tensorflow.keras import Model, Sequential\n",
    "from tensorflow.keras.optimizers import Adam\n",
    "from tensorflow.keras.losses import MeanSquaredError\n",
    "from tensorflow.keras.callbacks import EarlyStopping\n",
    "from tensorflow.keras.metrics import MeanAbsoluteError\n",
    "from tensorflow.keras.layers import Dense, Conv1D, LSTM, Lambda, RNN, LSTMCell\n",
    "\n",
    "\n",
    "import warnings\n",
    "warnings.filterwarnings(\"ignore\")\n"
   ]
  },
  {
   "cell_type": "code",
   "execution_count": 3,
   "id": "1bf34e3c",
   "metadata": {
    "execution": {
     "iopub.execute_input": "2025-09-30T03:49:03.013825Z",
     "iopub.status.busy": "2025-09-30T03:49:03.012795Z",
     "iopub.status.idle": "2025-09-30T03:49:03.018430Z",
     "shell.execute_reply": "2025-09-30T03:49:03.017358Z"
    },
    "papermill": {
     "duration": 0.014609,
     "end_time": "2025-09-30T03:49:03.020120",
     "exception": false,
     "start_time": "2025-09-30T03:49:03.005511",
     "status": "completed"
    },
    "tags": []
   },
   "outputs": [],
   "source": [
    "plt.rcParams[\"figure.figsize\"] =  (10,4)"
   ]
  },
  {
   "cell_type": "code",
   "execution_count": 4,
   "id": "e2266f7c",
   "metadata": {
    "execution": {
     "iopub.execute_input": "2025-09-30T03:49:03.034195Z",
     "iopub.status.busy": "2025-09-30T03:49:03.033858Z",
     "iopub.status.idle": "2025-09-30T03:49:03.039412Z",
     "shell.execute_reply": "2025-09-30T03:49:03.038254Z"
    },
    "papermill": {
     "duration": 0.014913,
     "end_time": "2025-09-30T03:49:03.041448",
     "exception": false,
     "start_time": "2025-09-30T03:49:03.026535",
     "status": "completed"
    },
    "tags": []
   },
   "outputs": [],
   "source": [
    "tf.random.set_seed(42)\n",
    "np.random.seed(42)"
   ]
  },
  {
   "cell_type": "code",
   "execution_count": 5,
   "id": "c6365005",
   "metadata": {
    "execution": {
     "iopub.execute_input": "2025-09-30T03:49:03.057081Z",
     "iopub.status.busy": "2025-09-30T03:49:03.056385Z",
     "iopub.status.idle": "2025-09-30T03:49:03.091276Z",
     "shell.execute_reply": "2025-09-30T03:49:03.090072Z"
    },
    "papermill": {
     "duration": 0.04535,
     "end_time": "2025-09-30T03:49:03.093252",
     "exception": false,
     "start_time": "2025-09-30T03:49:03.047902",
     "status": "completed"
    },
    "tags": []
   },
   "outputs": [
    {
     "data": {
      "text/plain": [
       "4333"
      ]
     },
     "execution_count": 5,
     "metadata": {},
     "output_type": "execute_result"
    }
   ],
   "source": [
    "url = \"/kaggle/input/stock-market-data/stock_market_data/nasdaq/csv/AAL.csv\"\n",
    "_df = pd.read_csv(url, sep=\",\")\n",
    "len(_df)"
   ]
  },
  {
   "cell_type": "code",
   "execution_count": 6,
   "id": "716f0a1f",
   "metadata": {
    "execution": {
     "iopub.execute_input": "2025-09-30T03:49:03.108032Z",
     "iopub.status.busy": "2025-09-30T03:49:03.107668Z",
     "iopub.status.idle": "2025-09-30T03:49:03.139870Z",
     "shell.execute_reply": "2025-09-30T03:49:03.138735Z"
    },
    "papermill": {
     "duration": 0.041838,
     "end_time": "2025-09-30T03:49:03.141766",
     "exception": false,
     "start_time": "2025-09-30T03:49:03.099928",
     "status": "completed"
    },
    "tags": []
   },
   "outputs": [
    {
     "data": {
      "text/html": [
       "<div>\n",
       "<style scoped>\n",
       "    .dataframe tbody tr th:only-of-type {\n",
       "        vertical-align: middle;\n",
       "    }\n",
       "\n",
       "    .dataframe tbody tr th {\n",
       "        vertical-align: top;\n",
       "    }\n",
       "\n",
       "    .dataframe thead th {\n",
       "        text-align: right;\n",
       "    }\n",
       "</style>\n",
       "<table border=\"1\" class=\"dataframe\">\n",
       "  <thead>\n",
       "    <tr style=\"text-align: right;\">\n",
       "      <th></th>\n",
       "      <th>Date</th>\n",
       "      <th>Low</th>\n",
       "      <th>Open</th>\n",
       "      <th>Volume</th>\n",
       "      <th>High</th>\n",
       "      <th>Close</th>\n",
       "      <th>Adjusted Close</th>\n",
       "    </tr>\n",
       "  </thead>\n",
       "  <tbody>\n",
       "    <tr>\n",
       "      <th>0</th>\n",
       "      <td>27-09-2005</td>\n",
       "      <td>19.100000</td>\n",
       "      <td>21.049999</td>\n",
       "      <td>961200</td>\n",
       "      <td>21.400000</td>\n",
       "      <td>19.299999</td>\n",
       "      <td>18.194910</td>\n",
       "    </tr>\n",
       "    <tr>\n",
       "      <th>1</th>\n",
       "      <td>28-09-2005</td>\n",
       "      <td>19.200001</td>\n",
       "      <td>19.299999</td>\n",
       "      <td>5747900</td>\n",
       "      <td>20.530001</td>\n",
       "      <td>20.500000</td>\n",
       "      <td>19.326204</td>\n",
       "    </tr>\n",
       "    <tr>\n",
       "      <th>2</th>\n",
       "      <td>29-09-2005</td>\n",
       "      <td>20.100000</td>\n",
       "      <td>20.400000</td>\n",
       "      <td>1078200</td>\n",
       "      <td>20.580000</td>\n",
       "      <td>20.209999</td>\n",
       "      <td>19.052805</td>\n",
       "    </tr>\n",
       "    <tr>\n",
       "      <th>3</th>\n",
       "      <td>30-09-2005</td>\n",
       "      <td>20.180000</td>\n",
       "      <td>20.260000</td>\n",
       "      <td>3123300</td>\n",
       "      <td>21.049999</td>\n",
       "      <td>21.010000</td>\n",
       "      <td>19.807001</td>\n",
       "    </tr>\n",
       "    <tr>\n",
       "      <th>4</th>\n",
       "      <td>03-10-2005</td>\n",
       "      <td>20.900000</td>\n",
       "      <td>20.900000</td>\n",
       "      <td>1057900</td>\n",
       "      <td>21.750000</td>\n",
       "      <td>21.500000</td>\n",
       "      <td>20.268940</td>\n",
       "    </tr>\n",
       "  </tbody>\n",
       "</table>\n",
       "</div>"
      ],
      "text/plain": [
       "         Date        Low       Open   Volume       High      Close  \\\n",
       "0  27-09-2005  19.100000  21.049999   961200  21.400000  19.299999   \n",
       "1  28-09-2005  19.200001  19.299999  5747900  20.530001  20.500000   \n",
       "2  29-09-2005  20.100000  20.400000  1078200  20.580000  20.209999   \n",
       "3  30-09-2005  20.180000  20.260000  3123300  21.049999  21.010000   \n",
       "4  03-10-2005  20.900000  20.900000  1057900  21.750000  21.500000   \n",
       "\n",
       "   Adjusted Close  \n",
       "0       18.194910  \n",
       "1       19.326204  \n",
       "2       19.052805  \n",
       "3       19.807001  \n",
       "4       20.268940  "
      ]
     },
     "execution_count": 6,
     "metadata": {},
     "output_type": "execute_result"
    }
   ],
   "source": [
    "df =  _df.copy()\n",
    "df.head()"
   ]
  },
  {
   "cell_type": "markdown",
   "id": "e67ca531",
   "metadata": {
    "papermill": {
     "duration": 0.006652,
     "end_time": "2025-09-30T03:49:03.155919",
     "exception": false,
     "start_time": "2025-09-30T03:49:03.149267",
     "status": "completed"
    },
    "tags": []
   },
   "source": [
    "# Data cleanup"
   ]
  },
  {
   "cell_type": "code",
   "execution_count": 7,
   "id": "2e5a346b",
   "metadata": {
    "execution": {
     "iopub.execute_input": "2025-09-30T03:49:03.169878Z",
     "iopub.status.busy": "2025-09-30T03:49:03.169544Z",
     "iopub.status.idle": "2025-09-30T03:49:03.183665Z",
     "shell.execute_reply": "2025-09-30T03:49:03.182441Z"
    },
    "papermill": {
     "duration": 0.023252,
     "end_time": "2025-09-30T03:49:03.185548",
     "exception": false,
     "start_time": "2025-09-30T03:49:03.162296",
     "status": "completed"
    },
    "tags": []
   },
   "outputs": [
    {
     "data": {
      "text/html": [
       "<div>\n",
       "<style scoped>\n",
       "    .dataframe tbody tr th:only-of-type {\n",
       "        vertical-align: middle;\n",
       "    }\n",
       "\n",
       "    .dataframe tbody tr th {\n",
       "        vertical-align: top;\n",
       "    }\n",
       "\n",
       "    .dataframe thead th {\n",
       "        text-align: right;\n",
       "    }\n",
       "</style>\n",
       "<table border=\"1\" class=\"dataframe\">\n",
       "  <thead>\n",
       "    <tr style=\"text-align: right;\">\n",
       "      <th></th>\n",
       "      <th>Date</th>\n",
       "      <th>Low</th>\n",
       "      <th>Open</th>\n",
       "      <th>Volume</th>\n",
       "      <th>High</th>\n",
       "      <th>Close</th>\n",
       "      <th>Adjusted Close</th>\n",
       "    </tr>\n",
       "  </thead>\n",
       "  <tbody>\n",
       "    <tr>\n",
       "      <th>0</th>\n",
       "      <td>27-09-2005</td>\n",
       "      <td>19.100000</td>\n",
       "      <td>21.049999</td>\n",
       "      <td>961200</td>\n",
       "      <td>21.400000</td>\n",
       "      <td>19.299999</td>\n",
       "      <td>18.194910</td>\n",
       "    </tr>\n",
       "    <tr>\n",
       "      <th>1</th>\n",
       "      <td>28-09-2005</td>\n",
       "      <td>19.200001</td>\n",
       "      <td>19.299999</td>\n",
       "      <td>5747900</td>\n",
       "      <td>20.530001</td>\n",
       "      <td>20.500000</td>\n",
       "      <td>19.326204</td>\n",
       "    </tr>\n",
       "    <tr>\n",
       "      <th>2</th>\n",
       "      <td>29-09-2005</td>\n",
       "      <td>20.100000</td>\n",
       "      <td>20.400000</td>\n",
       "      <td>1078200</td>\n",
       "      <td>20.580000</td>\n",
       "      <td>20.209999</td>\n",
       "      <td>19.052805</td>\n",
       "    </tr>\n",
       "    <tr>\n",
       "      <th>3</th>\n",
       "      <td>30-09-2005</td>\n",
       "      <td>20.180000</td>\n",
       "      <td>20.260000</td>\n",
       "      <td>3123300</td>\n",
       "      <td>21.049999</td>\n",
       "      <td>21.010000</td>\n",
       "      <td>19.807001</td>\n",
       "    </tr>\n",
       "    <tr>\n",
       "      <th>4</th>\n",
       "      <td>03-10-2005</td>\n",
       "      <td>20.900000</td>\n",
       "      <td>20.900000</td>\n",
       "      <td>1057900</td>\n",
       "      <td>21.750000</td>\n",
       "      <td>21.500000</td>\n",
       "      <td>20.268940</td>\n",
       "    </tr>\n",
       "  </tbody>\n",
       "</table>\n",
       "</div>"
      ],
      "text/plain": [
       "         Date        Low       Open   Volume       High      Close  \\\n",
       "0  27-09-2005  19.100000  21.049999   961200  21.400000  19.299999   \n",
       "1  28-09-2005  19.200001  19.299999  5747900  20.530001  20.500000   \n",
       "2  29-09-2005  20.100000  20.400000  1078200  20.580000  20.209999   \n",
       "3  30-09-2005  20.180000  20.260000  3123300  21.049999  21.010000   \n",
       "4  03-10-2005  20.900000  20.900000  1057900  21.750000  21.500000   \n",
       "\n",
       "   Adjusted Close  \n",
       "0       18.194910  \n",
       "1       19.326204  \n",
       "2       19.052805  \n",
       "3       19.807001  \n",
       "4       20.268940  "
      ]
     },
     "execution_count": 7,
     "metadata": {},
     "output_type": "execute_result"
    }
   ],
   "source": [
    "df.head()"
   ]
  },
  {
   "cell_type": "code",
   "execution_count": 8,
   "id": "5b9d2833",
   "metadata": {
    "execution": {
     "iopub.execute_input": "2025-09-30T03:49:03.200719Z",
     "iopub.status.busy": "2025-09-30T03:49:03.200261Z",
     "iopub.status.idle": "2025-09-30T03:49:03.214348Z",
     "shell.execute_reply": "2025-09-30T03:49:03.212923Z"
    },
    "papermill": {
     "duration": 0.023986,
     "end_time": "2025-09-30T03:49:03.216438",
     "exception": false,
     "start_time": "2025-09-30T03:49:03.192452",
     "status": "completed"
    },
    "tags": []
   },
   "outputs": [
    {
     "data": {
      "text/html": [
       "<div>\n",
       "<style scoped>\n",
       "    .dataframe tbody tr th:only-of-type {\n",
       "        vertical-align: middle;\n",
       "    }\n",
       "\n",
       "    .dataframe tbody tr th {\n",
       "        vertical-align: top;\n",
       "    }\n",
       "\n",
       "    .dataframe thead th {\n",
       "        text-align: right;\n",
       "    }\n",
       "</style>\n",
       "<table border=\"1\" class=\"dataframe\">\n",
       "  <thead>\n",
       "    <tr style=\"text-align: right;\">\n",
       "      <th></th>\n",
       "      <th>Date</th>\n",
       "      <th>Low</th>\n",
       "      <th>Open</th>\n",
       "      <th>Volume</th>\n",
       "      <th>High</th>\n",
       "      <th>Close</th>\n",
       "      <th>Adjusted Close</th>\n",
       "    </tr>\n",
       "  </thead>\n",
       "  <tbody>\n",
       "    <tr>\n",
       "      <th>4328</th>\n",
       "      <td>06-12-2022</td>\n",
       "      <td>14.00</td>\n",
       "      <td>14.14</td>\n",
       "      <td>20781500</td>\n",
       "      <td>14.34</td>\n",
       "      <td>14.330</td>\n",
       "      <td>14.330</td>\n",
       "    </tr>\n",
       "    <tr>\n",
       "      <th>4329</th>\n",
       "      <td>07-12-2022</td>\n",
       "      <td>13.53</td>\n",
       "      <td>14.24</td>\n",
       "      <td>28161400</td>\n",
       "      <td>14.24</td>\n",
       "      <td>13.550</td>\n",
       "      <td>13.550</td>\n",
       "    </tr>\n",
       "    <tr>\n",
       "      <th>4330</th>\n",
       "      <td>08-12-2022</td>\n",
       "      <td>13.38</td>\n",
       "      <td>13.65</td>\n",
       "      <td>25300900</td>\n",
       "      <td>13.80</td>\n",
       "      <td>13.600</td>\n",
       "      <td>13.600</td>\n",
       "    </tr>\n",
       "    <tr>\n",
       "      <th>4331</th>\n",
       "      <td>09-12-2022</td>\n",
       "      <td>13.42</td>\n",
       "      <td>13.52</td>\n",
       "      <td>18489800</td>\n",
       "      <td>13.66</td>\n",
       "      <td>13.530</td>\n",
       "      <td>13.530</td>\n",
       "    </tr>\n",
       "    <tr>\n",
       "      <th>4332</th>\n",
       "      <td>12-12-2022</td>\n",
       "      <td>13.45</td>\n",
       "      <td>13.49</td>\n",
       "      <td>8048550</td>\n",
       "      <td>13.93</td>\n",
       "      <td>13.915</td>\n",
       "      <td>13.915</td>\n",
       "    </tr>\n",
       "  </tbody>\n",
       "</table>\n",
       "</div>"
      ],
      "text/plain": [
       "            Date    Low   Open    Volume   High   Close  Adjusted Close\n",
       "4328  06-12-2022  14.00  14.14  20781500  14.34  14.330          14.330\n",
       "4329  07-12-2022  13.53  14.24  28161400  14.24  13.550          13.550\n",
       "4330  08-12-2022  13.38  13.65  25300900  13.80  13.600          13.600\n",
       "4331  09-12-2022  13.42  13.52  18489800  13.66  13.530          13.530\n",
       "4332  12-12-2022  13.45  13.49   8048550  13.93  13.915          13.915"
      ]
     },
     "execution_count": 8,
     "metadata": {},
     "output_type": "execute_result"
    }
   ],
   "source": [
    "df.tail()"
   ]
  },
  {
   "cell_type": "markdown",
   "id": "1032b215",
   "metadata": {
    "papermill": {
     "duration": 0.006332,
     "end_time": "2025-09-30T03:49:03.229636",
     "exception": false,
     "start_time": "2025-09-30T03:49:03.223304",
     "status": "completed"
    },
    "tags": []
   },
   "source": [
    "Stars 2005 ends 0n 2022. collected at work day (sat and sun wasn't inclued)"
   ]
  },
  {
   "cell_type": "code",
   "execution_count": 9,
   "id": "472ce00b",
   "metadata": {
    "execution": {
     "iopub.execute_input": "2025-09-30T03:49:03.245236Z",
     "iopub.status.busy": "2025-09-30T03:49:03.243987Z",
     "iopub.status.idle": "2025-09-30T03:49:03.251133Z",
     "shell.execute_reply": "2025-09-30T03:49:03.249917Z"
    },
    "papermill": {
     "duration": 0.0169,
     "end_time": "2025-09-30T03:49:03.253240",
     "exception": false,
     "start_time": "2025-09-30T03:49:03.236340",
     "status": "completed"
    },
    "tags": []
   },
   "outputs": [
    {
     "data": {
      "text/plain": [
       "(4333, 7)"
      ]
     },
     "execution_count": 9,
     "metadata": {},
     "output_type": "execute_result"
    }
   ],
   "source": [
    "df.shape # 7 columns and 4333 rows"
   ]
  },
  {
   "cell_type": "code",
   "execution_count": 10,
   "id": "c8bfdcbb",
   "metadata": {
    "execution": {
     "iopub.execute_input": "2025-09-30T03:49:03.269689Z",
     "iopub.status.busy": "2025-09-30T03:49:03.269343Z",
     "iopub.status.idle": "2025-09-30T03:49:03.278807Z",
     "shell.execute_reply": "2025-09-30T03:49:03.277596Z"
    },
    "papermill": {
     "duration": 0.020033,
     "end_time": "2025-09-30T03:49:03.280754",
     "exception": false,
     "start_time": "2025-09-30T03:49:03.260721",
     "status": "completed"
    },
    "tags": []
   },
   "outputs": [
    {
     "data": {
      "text/plain": [
       "Date              0\n",
       "Low               0\n",
       "Open              0\n",
       "Volume            0\n",
       "High              0\n",
       "Close             0\n",
       "Adjusted Close    0\n",
       "dtype: int64"
      ]
     },
     "execution_count": 10,
     "metadata": {},
     "output_type": "execute_result"
    }
   ],
   "source": [
    "df.isna().sum()"
   ]
  },
  {
   "cell_type": "code",
   "execution_count": 11,
   "id": "e2e0d92b",
   "metadata": {
    "execution": {
     "iopub.execute_input": "2025-09-30T03:49:03.297234Z",
     "iopub.status.busy": "2025-09-30T03:49:03.296892Z",
     "iopub.status.idle": "2025-09-30T03:49:03.304901Z",
     "shell.execute_reply": "2025-09-30T03:49:03.303721Z"
    },
    "papermill": {
     "duration": 0.018892,
     "end_time": "2025-09-30T03:49:03.306900",
     "exception": false,
     "start_time": "2025-09-30T03:49:03.288008",
     "status": "completed"
    },
    "tags": []
   },
   "outputs": [
    {
     "data": {
      "text/plain": [
       "Date               object\n",
       "Low               float64\n",
       "Open              float64\n",
       "Volume              int64\n",
       "High              float64\n",
       "Close             float64\n",
       "Adjusted Close    float64\n",
       "dtype: object"
      ]
     },
     "execution_count": 11,
     "metadata": {},
     "output_type": "execute_result"
    }
   ],
   "source": [
    "df.dtypes"
   ]
  },
  {
   "cell_type": "code",
   "execution_count": 12,
   "id": "9c8d7f9c",
   "metadata": {
    "execution": {
     "iopub.execute_input": "2025-09-30T03:49:03.323526Z",
     "iopub.status.busy": "2025-09-30T03:49:03.322193Z",
     "iopub.status.idle": "2025-09-30T03:49:03.349819Z",
     "shell.execute_reply": "2025-09-30T03:49:03.348196Z"
    },
    "papermill": {
     "duration": 0.037543,
     "end_time": "2025-09-30T03:49:03.351706",
     "exception": false,
     "start_time": "2025-09-30T03:49:03.314163",
     "status": "completed"
    },
    "tags": []
   },
   "outputs": [],
   "source": [
    "# Convert Date into datetime data type\n",
    "df[\"Date\"] = pd.to_datetime(df[\"Date\"])"
   ]
  },
  {
   "cell_type": "code",
   "execution_count": 13,
   "id": "b4bdeffb",
   "metadata": {
    "execution": {
     "iopub.execute_input": "2025-09-30T03:49:03.367813Z",
     "iopub.status.busy": "2025-09-30T03:49:03.367491Z",
     "iopub.status.idle": "2025-09-30T03:49:03.375465Z",
     "shell.execute_reply": "2025-09-30T03:49:03.374382Z"
    },
    "papermill": {
     "duration": 0.018634,
     "end_time": "2025-09-30T03:49:03.377508",
     "exception": false,
     "start_time": "2025-09-30T03:49:03.358874",
     "status": "completed"
    },
    "tags": []
   },
   "outputs": [
    {
     "data": {
      "text/plain": [
       "Date              datetime64[ns]\n",
       "Low                      float64\n",
       "Open                     float64\n",
       "Volume                     int64\n",
       "High                     float64\n",
       "Close                    float64\n",
       "Adjusted Close           float64\n",
       "dtype: object"
      ]
     },
     "execution_count": 13,
     "metadata": {},
     "output_type": "execute_result"
    }
   ],
   "source": [
    "df.dtypes"
   ]
  },
  {
   "cell_type": "markdown",
   "id": "66ff4ac8",
   "metadata": {
    "papermill": {
     "duration": 0.007269,
     "end_time": "2025-09-30T03:49:03.392459",
     "exception": false,
     "start_time": "2025-09-30T03:49:03.385190",
     "status": "completed"
    },
    "tags": []
   },
   "source": [
    "# Data Resampling\n",
    "Check if data is sampled every day is approriate for modeling and if data sampled every day is too noisy to build performant predictive model"
   ]
  },
  {
   "cell_type": "code",
   "execution_count": 14,
   "id": "a29cf448",
   "metadata": {
    "execution": {
     "iopub.execute_input": "2025-09-30T03:49:03.408337Z",
     "iopub.status.busy": "2025-09-30T03:49:03.407986Z",
     "iopub.status.idle": "2025-09-30T03:49:03.434947Z",
     "shell.execute_reply": "2025-09-30T03:49:03.433884Z"
    },
    "papermill": {
     "duration": 0.037024,
     "end_time": "2025-09-30T03:49:03.436745",
     "exception": false,
     "start_time": "2025-09-30T03:49:03.399721",
     "status": "completed"
    },
    "tags": []
   },
   "outputs": [
    {
     "data": {
      "text/html": [
       "<div>\n",
       "<style scoped>\n",
       "    .dataframe tbody tr th:only-of-type {\n",
       "        vertical-align: middle;\n",
       "    }\n",
       "\n",
       "    .dataframe tbody tr th {\n",
       "        vertical-align: top;\n",
       "    }\n",
       "\n",
       "    .dataframe thead th {\n",
       "        text-align: right;\n",
       "    }\n",
       "</style>\n",
       "<table border=\"1\" class=\"dataframe\">\n",
       "  <thead>\n",
       "    <tr style=\"text-align: right;\">\n",
       "      <th></th>\n",
       "      <th>Date</th>\n",
       "    </tr>\n",
       "    <tr>\n",
       "      <th>Date</th>\n",
       "      <th></th>\n",
       "    </tr>\n",
       "  </thead>\n",
       "  <tbody>\n",
       "    <tr>\n",
       "      <th>2005-09</th>\n",
       "      <td>4</td>\n",
       "    </tr>\n",
       "    <tr>\n",
       "      <th>2005-10</th>\n",
       "      <td>21</td>\n",
       "    </tr>\n",
       "    <tr>\n",
       "      <th>2005-11</th>\n",
       "      <td>21</td>\n",
       "    </tr>\n",
       "    <tr>\n",
       "      <th>2005-12</th>\n",
       "      <td>21</td>\n",
       "    </tr>\n",
       "    <tr>\n",
       "      <th>2006-01</th>\n",
       "      <td>20</td>\n",
       "    </tr>\n",
       "    <tr>\n",
       "      <th>2006-02</th>\n",
       "      <td>19</td>\n",
       "    </tr>\n",
       "    <tr>\n",
       "      <th>2006-03</th>\n",
       "      <td>23</td>\n",
       "    </tr>\n",
       "    <tr>\n",
       "      <th>2006-04</th>\n",
       "      <td>19</td>\n",
       "    </tr>\n",
       "    <tr>\n",
       "      <th>2006-05</th>\n",
       "      <td>22</td>\n",
       "    </tr>\n",
       "    <tr>\n",
       "      <th>2006-06</th>\n",
       "      <td>22</td>\n",
       "    </tr>\n",
       "    <tr>\n",
       "      <th>2006-07</th>\n",
       "      <td>20</td>\n",
       "    </tr>\n",
       "    <tr>\n",
       "      <th>2006-08</th>\n",
       "      <td>23</td>\n",
       "    </tr>\n",
       "    <tr>\n",
       "      <th>2006-09</th>\n",
       "      <td>20</td>\n",
       "    </tr>\n",
       "    <tr>\n",
       "      <th>2006-10</th>\n",
       "      <td>22</td>\n",
       "    </tr>\n",
       "    <tr>\n",
       "      <th>2006-11</th>\n",
       "      <td>21</td>\n",
       "    </tr>\n",
       "    <tr>\n",
       "      <th>2006-12</th>\n",
       "      <td>20</td>\n",
       "    </tr>\n",
       "    <tr>\n",
       "      <th>2007-01</th>\n",
       "      <td>20</td>\n",
       "    </tr>\n",
       "    <tr>\n",
       "      <th>2007-02</th>\n",
       "      <td>19</td>\n",
       "    </tr>\n",
       "    <tr>\n",
       "      <th>2007-03</th>\n",
       "      <td>22</td>\n",
       "    </tr>\n",
       "    <tr>\n",
       "      <th>2007-04</th>\n",
       "      <td>20</td>\n",
       "    </tr>\n",
       "  </tbody>\n",
       "</table>\n",
       "</div>"
      ],
      "text/plain": [
       "         Date\n",
       "Date         \n",
       "2005-09     4\n",
       "2005-10    21\n",
       "2005-11    21\n",
       "2005-12    21\n",
       "2006-01    20\n",
       "2006-02    19\n",
       "2006-03    23\n",
       "2006-04    19\n",
       "2006-05    22\n",
       "2006-06    22\n",
       "2006-07    20\n",
       "2006-08    23\n",
       "2006-09    20\n",
       "2006-10    22\n",
       "2006-11    21\n",
       "2006-12    20\n",
       "2007-01    20\n",
       "2007-02    19\n",
       "2007-03    22\n",
       "2007-04    20"
      ]
     },
     "execution_count": 14,
     "metadata": {},
     "output_type": "execute_result"
    }
   ],
   "source": [
    "days_per_month = df.groupby(df[\"Date\"].dt.to_period(\"M\"))[\"Date\"].nunique()\n",
    "\n",
    "days_per_month = pd.DataFrame(days_per_month)\n",
    "days_per_month.head(20)"
   ]
  },
  {
   "cell_type": "code",
   "execution_count": 15,
   "id": "674a6279",
   "metadata": {
    "execution": {
     "iopub.execute_input": "2025-09-30T03:49:03.454931Z",
     "iopub.status.busy": "2025-09-30T03:49:03.454020Z",
     "iopub.status.idle": "2025-09-30T03:49:03.475449Z",
     "shell.execute_reply": "2025-09-30T03:49:03.474532Z"
    },
    "papermill": {
     "duration": 0.032422,
     "end_time": "2025-09-30T03:49:03.477145",
     "exception": false,
     "start_time": "2025-09-30T03:49:03.444723",
     "status": "completed"
    },
    "tags": []
   },
   "outputs": [
    {
     "data": {
      "text/html": [
       "<div>\n",
       "<style scoped>\n",
       "    .dataframe tbody tr th:only-of-type {\n",
       "        vertical-align: middle;\n",
       "    }\n",
       "\n",
       "    .dataframe tbody tr th {\n",
       "        vertical-align: top;\n",
       "    }\n",
       "\n",
       "    .dataframe thead th {\n",
       "        text-align: right;\n",
       "    }\n",
       "</style>\n",
       "<table border=\"1\" class=\"dataframe\">\n",
       "  <thead>\n",
       "    <tr style=\"text-align: right;\">\n",
       "      <th></th>\n",
       "      <th>Date</th>\n",
       "      <th>Low</th>\n",
       "      <th>Open</th>\n",
       "      <th>Volume</th>\n",
       "      <th>High</th>\n",
       "      <th>Close</th>\n",
       "      <th>Adjusted Close</th>\n",
       "    </tr>\n",
       "  </thead>\n",
       "  <tbody>\n",
       "    <tr>\n",
       "      <th>0</th>\n",
       "      <td>2006-01-03</td>\n",
       "      <td>36.849998</td>\n",
       "      <td>37.200001</td>\n",
       "      <td>1013200</td>\n",
       "      <td>38.279999</td>\n",
       "      <td>37.450001</td>\n",
       "      <td>35.305672</td>\n",
       "    </tr>\n",
       "    <tr>\n",
       "      <th>1</th>\n",
       "      <td>2006-01-04</td>\n",
       "      <td>37.700001</td>\n",
       "      <td>37.700001</td>\n",
       "      <td>1928400</td>\n",
       "      <td>40.599998</td>\n",
       "      <td>39.200001</td>\n",
       "      <td>36.955467</td>\n",
       "    </tr>\n",
       "    <tr>\n",
       "      <th>2</th>\n",
       "      <td>2006-01-05</td>\n",
       "      <td>38.910000</td>\n",
       "      <td>39.180000</td>\n",
       "      <td>317900</td>\n",
       "      <td>39.709999</td>\n",
       "      <td>39.709999</td>\n",
       "      <td>37.436268</td>\n",
       "    </tr>\n",
       "    <tr>\n",
       "      <th>3</th>\n",
       "      <td>2006-01-06</td>\n",
       "      <td>38.139999</td>\n",
       "      <td>39.709999</td>\n",
       "      <td>349200</td>\n",
       "      <td>39.709999</td>\n",
       "      <td>39.000000</td>\n",
       "      <td>36.766914</td>\n",
       "    </tr>\n",
       "    <tr>\n",
       "      <th>4</th>\n",
       "      <td>2006-01-09</td>\n",
       "      <td>38.500000</td>\n",
       "      <td>38.799999</td>\n",
       "      <td>220800</td>\n",
       "      <td>38.880001</td>\n",
       "      <td>38.610001</td>\n",
       "      <td>36.399242</td>\n",
       "    </tr>\n",
       "    <tr>\n",
       "      <th>5</th>\n",
       "      <td>2006-01-10</td>\n",
       "      <td>37.400002</td>\n",
       "      <td>38.610001</td>\n",
       "      <td>191300</td>\n",
       "      <td>38.709999</td>\n",
       "      <td>37.799999</td>\n",
       "      <td>35.635628</td>\n",
       "    </tr>\n",
       "    <tr>\n",
       "      <th>6</th>\n",
       "      <td>2006-01-11</td>\n",
       "      <td>34.650002</td>\n",
       "      <td>37.799999</td>\n",
       "      <td>974300</td>\n",
       "      <td>37.799999</td>\n",
       "      <td>34.799999</td>\n",
       "      <td>32.807415</td>\n",
       "    </tr>\n",
       "    <tr>\n",
       "      <th>7</th>\n",
       "      <td>2006-01-12</td>\n",
       "      <td>32.959999</td>\n",
       "      <td>33.000000</td>\n",
       "      <td>2008900</td>\n",
       "      <td>35.349998</td>\n",
       "      <td>34.990002</td>\n",
       "      <td>32.986526</td>\n",
       "    </tr>\n",
       "    <tr>\n",
       "      <th>8</th>\n",
       "      <td>2006-01-13</td>\n",
       "      <td>33.310001</td>\n",
       "      <td>35.000000</td>\n",
       "      <td>734200</td>\n",
       "      <td>35.419998</td>\n",
       "      <td>34.049999</td>\n",
       "      <td>32.100342</td>\n",
       "    </tr>\n",
       "    <tr>\n",
       "      <th>9</th>\n",
       "      <td>2006-01-17</td>\n",
       "      <td>29.620001</td>\n",
       "      <td>33.549999</td>\n",
       "      <td>2351200</td>\n",
       "      <td>33.549999</td>\n",
       "      <td>30.000000</td>\n",
       "      <td>28.282244</td>\n",
       "    </tr>\n",
       "    <tr>\n",
       "      <th>10</th>\n",
       "      <td>2006-01-18</td>\n",
       "      <td>28.879999</td>\n",
       "      <td>29.100000</td>\n",
       "      <td>1773700</td>\n",
       "      <td>31.160000</td>\n",
       "      <td>31.000000</td>\n",
       "      <td>29.224985</td>\n",
       "    </tr>\n",
       "    <tr>\n",
       "      <th>11</th>\n",
       "      <td>2006-01-19</td>\n",
       "      <td>29.340000</td>\n",
       "      <td>30.799999</td>\n",
       "      <td>857200</td>\n",
       "      <td>31.240000</td>\n",
       "      <td>30.389999</td>\n",
       "      <td>28.649918</td>\n",
       "    </tr>\n",
       "    <tr>\n",
       "      <th>12</th>\n",
       "      <td>2006-01-20</td>\n",
       "      <td>28.600000</td>\n",
       "      <td>30.280001</td>\n",
       "      <td>788700</td>\n",
       "      <td>30.280001</td>\n",
       "      <td>29.240000</td>\n",
       "      <td>27.565760</td>\n",
       "    </tr>\n",
       "    <tr>\n",
       "      <th>13</th>\n",
       "      <td>2006-01-23</td>\n",
       "      <td>29.150000</td>\n",
       "      <td>29.490000</td>\n",
       "      <td>530800</td>\n",
       "      <td>30.049999</td>\n",
       "      <td>29.420000</td>\n",
       "      <td>27.735455</td>\n",
       "    </tr>\n",
       "    <tr>\n",
       "      <th>14</th>\n",
       "      <td>2006-01-24</td>\n",
       "      <td>29.750000</td>\n",
       "      <td>29.900000</td>\n",
       "      <td>648900</td>\n",
       "      <td>31.469999</td>\n",
       "      <td>31.020000</td>\n",
       "      <td>29.243839</td>\n",
       "    </tr>\n",
       "    <tr>\n",
       "      <th>15</th>\n",
       "      <td>2006-01-25</td>\n",
       "      <td>30.750000</td>\n",
       "      <td>31.150000</td>\n",
       "      <td>836300</td>\n",
       "      <td>31.510000</td>\n",
       "      <td>31.000000</td>\n",
       "      <td>29.224985</td>\n",
       "    </tr>\n",
       "    <tr>\n",
       "      <th>16</th>\n",
       "      <td>2006-01-26</td>\n",
       "      <td>30.000000</td>\n",
       "      <td>31.049999</td>\n",
       "      <td>313700</td>\n",
       "      <td>31.250000</td>\n",
       "      <td>30.250000</td>\n",
       "      <td>28.517929</td>\n",
       "    </tr>\n",
       "    <tr>\n",
       "      <th>17</th>\n",
       "      <td>2006-01-27</td>\n",
       "      <td>28.299999</td>\n",
       "      <td>30.200001</td>\n",
       "      <td>518600</td>\n",
       "      <td>30.200001</td>\n",
       "      <td>28.889999</td>\n",
       "      <td>27.235802</td>\n",
       "    </tr>\n",
       "    <tr>\n",
       "      <th>18</th>\n",
       "      <td>2006-01-30</td>\n",
       "      <td>28.730000</td>\n",
       "      <td>28.730000</td>\n",
       "      <td>917300</td>\n",
       "      <td>29.580000</td>\n",
       "      <td>29.000000</td>\n",
       "      <td>27.339504</td>\n",
       "    </tr>\n",
       "    <tr>\n",
       "      <th>19</th>\n",
       "      <td>2006-01-31</td>\n",
       "      <td>29.010000</td>\n",
       "      <td>29.170000</td>\n",
       "      <td>490600</td>\n",
       "      <td>30.410000</td>\n",
       "      <td>29.340000</td>\n",
       "      <td>27.660040</td>\n",
       "    </tr>\n",
       "  </tbody>\n",
       "</table>\n",
       "</div>"
      ],
      "text/plain": [
       "         Date        Low       Open   Volume       High      Close  \\\n",
       "0  2006-01-03  36.849998  37.200001  1013200  38.279999  37.450001   \n",
       "1  2006-01-04  37.700001  37.700001  1928400  40.599998  39.200001   \n",
       "2  2006-01-05  38.910000  39.180000   317900  39.709999  39.709999   \n",
       "3  2006-01-06  38.139999  39.709999   349200  39.709999  39.000000   \n",
       "4  2006-01-09  38.500000  38.799999   220800  38.880001  38.610001   \n",
       "5  2006-01-10  37.400002  38.610001   191300  38.709999  37.799999   \n",
       "6  2006-01-11  34.650002  37.799999   974300  37.799999  34.799999   \n",
       "7  2006-01-12  32.959999  33.000000  2008900  35.349998  34.990002   \n",
       "8  2006-01-13  33.310001  35.000000   734200  35.419998  34.049999   \n",
       "9  2006-01-17  29.620001  33.549999  2351200  33.549999  30.000000   \n",
       "10 2006-01-18  28.879999  29.100000  1773700  31.160000  31.000000   \n",
       "11 2006-01-19  29.340000  30.799999   857200  31.240000  30.389999   \n",
       "12 2006-01-20  28.600000  30.280001   788700  30.280001  29.240000   \n",
       "13 2006-01-23  29.150000  29.490000   530800  30.049999  29.420000   \n",
       "14 2006-01-24  29.750000  29.900000   648900  31.469999  31.020000   \n",
       "15 2006-01-25  30.750000  31.150000   836300  31.510000  31.000000   \n",
       "16 2006-01-26  30.000000  31.049999   313700  31.250000  30.250000   \n",
       "17 2006-01-27  28.299999  30.200001   518600  30.200001  28.889999   \n",
       "18 2006-01-30  28.730000  28.730000   917300  29.580000  29.000000   \n",
       "19 2006-01-31  29.010000  29.170000   490600  30.410000  29.340000   \n",
       "\n",
       "    Adjusted Close  \n",
       "0        35.305672  \n",
       "1        36.955467  \n",
       "2        37.436268  \n",
       "3        36.766914  \n",
       "4        36.399242  \n",
       "5        35.635628  \n",
       "6        32.807415  \n",
       "7        32.986526  \n",
       "8        32.100342  \n",
       "9        28.282244  \n",
       "10       29.224985  \n",
       "11       28.649918  \n",
       "12       27.565760  \n",
       "13       27.735455  \n",
       "14       29.243839  \n",
       "15       29.224985  \n",
       "16       28.517929  \n",
       "17       27.235802  \n",
       "18       27.339504  \n",
       "19       27.660040  "
      ]
     },
     "execution_count": 15,
     "metadata": {},
     "output_type": "execute_result"
    }
   ],
   "source": [
    "# year 2005 have noticeble less days the the rest. Drop 2005\n",
    "df = df[df[\"Date\"].dt.year != 2005]\n",
    "\n",
    "df.reset_index(inplace = True, drop = True)\n",
    "\n",
    "df.head(20)"
   ]
  },
  {
   "cell_type": "code",
   "execution_count": 16,
   "id": "1d2202ee",
   "metadata": {
    "execution": {
     "iopub.execute_input": "2025-09-30T03:49:03.497902Z",
     "iopub.status.busy": "2025-09-30T03:49:03.496221Z",
     "iopub.status.idle": "2025-09-30T03:49:03.841605Z",
     "shell.execute_reply": "2025-09-30T03:49:03.840583Z"
    },
    "papermill": {
     "duration": 0.357013,
     "end_time": "2025-09-30T03:49:03.843672",
     "exception": false,
     "start_time": "2025-09-30T03:49:03.486659",
     "status": "completed"
    },
    "tags": []
   },
   "outputs": [
    {
     "data": {
      "image/png": "[encoded data removed]",
      "text/plain": [
       "<Figure size 1000x400 with 1 Axes>"
      ]
     },
     "metadata": {},
     "output_type": "display_data"
    }
   ],
   "source": [
    "fig, ax = plt.subplots(figsize=(10,4))\n",
    "\n",
    "ax.plot(df[\"Close\"])\n",
    "ax.set_xlabel(\"Date\")\n",
    "ax.set_ylabel(\"Closing price (USD)\")\n",
    "\n",
    "ax.set_xlim(0, 260)\n",
    "\n",
    "fig.autofmt_xdate()\n",
    "plt.tight_layout()"
   ]
  },
  {
   "cell_type": "markdown",
   "id": "a3c5c022",
   "metadata": {
    "papermill": {
     "duration": 0.00803,
     "end_time": "2025-09-30T03:49:03.860618",
     "exception": false,
     "start_time": "2025-09-30T03:49:03.852588",
     "status": "completed"
    },
    "tags": []
   },
   "source": [
    "**Figure**: close price sampled every day for one year. "
   ]
  },
  {
   "cell_type": "markdown",
   "id": "5309ac57",
   "metadata": {
    "papermill": {
     "duration": 0.00855,
     "end_time": "2025-09-30T03:49:03.879205",
     "exception": false,
     "start_time": "2025-09-30T03:49:03.870655",
     "status": "completed"
    },
    "tags": []
   },
   "source": [
    "Data wrangling done. Save this clean up dataset as a new CSV file."
   ]
  },
  {
   "cell_type": "code",
   "execution_count": 17,
   "id": "0a846e6b",
   "metadata": {
    "execution": {
     "iopub.execute_input": "2025-09-30T03:49:03.900745Z",
     "iopub.status.busy": "2025-09-30T03:49:03.900129Z",
     "iopub.status.idle": "2025-09-30T03:49:03.972111Z",
     "shell.execute_reply": "2025-09-30T03:49:03.970989Z"
    },
    "papermill": {
     "duration": 0.086428,
     "end_time": "2025-09-30T03:49:03.974036",
     "exception": false,
     "start_time": "2025-09-30T03:49:03.887608",
     "status": "completed"
    },
    "tags": []
   },
   "outputs": [],
   "source": [
    "df.to_csv(\"../clean_AAL.csv\", header=True, index=False)"
   ]
  },
  {
   "cell_type": "markdown",
   "id": "113dd4fb",
   "metadata": {
    "papermill": {
     "duration": 0.012202,
     "end_time": "2025-09-30T03:49:04.000134",
     "exception": false,
     "start_time": "2025-09-30T03:49:03.987932",
     "status": "completed"
    },
    "tags": []
   },
   "source": [
    "# Feature Engineering\n",
    "Start to read the cleanup version and working on feature engineering"
   ]
  },
  {
   "cell_type": "code",
   "execution_count": 18,
   "id": "f24a5cf2",
   "metadata": {
    "execution": {
     "iopub.execute_input": "2025-09-30T03:49:04.021195Z",
     "iopub.status.busy": "2025-09-30T03:49:04.020786Z",
     "iopub.status.idle": "2025-09-30T03:49:04.045262Z",
     "shell.execute_reply": "2025-09-30T03:49:04.044258Z"
    },
    "papermill": {
     "duration": 0.038013,
     "end_time": "2025-09-30T03:49:04.046983",
     "exception": false,
     "start_time": "2025-09-30T03:49:04.008970",
     "status": "completed"
    },
    "tags": []
   },
   "outputs": [
    {
     "data": {
      "text/html": [
       "<div>\n",
       "<style scoped>\n",
       "    .dataframe tbody tr th:only-of-type {\n",
       "        vertical-align: middle;\n",
       "    }\n",
       "\n",
       "    .dataframe tbody tr th {\n",
       "        vertical-align: top;\n",
       "    }\n",
       "\n",
       "    .dataframe thead th {\n",
       "        text-align: right;\n",
       "    }\n",
       "</style>\n",
       "<table border=\"1\" class=\"dataframe\">\n",
       "  <thead>\n",
       "    <tr style=\"text-align: right;\">\n",
       "      <th></th>\n",
       "      <th>Date</th>\n",
       "      <th>Low</th>\n",
       "      <th>Open</th>\n",
       "      <th>Volume</th>\n",
       "      <th>High</th>\n",
       "      <th>Close</th>\n",
       "      <th>Adjusted Close</th>\n",
       "    </tr>\n",
       "  </thead>\n",
       "  <tbody>\n",
       "    <tr>\n",
       "      <th>0</th>\n",
       "      <td>2006-01-03</td>\n",
       "      <td>36.849998</td>\n",
       "      <td>37.200001</td>\n",
       "      <td>1013200</td>\n",
       "      <td>38.279999</td>\n",
       "      <td>37.450001</td>\n",
       "      <td>35.305672</td>\n",
       "    </tr>\n",
       "    <tr>\n",
       "      <th>1</th>\n",
       "      <td>2006-01-04</td>\n",
       "      <td>37.700001</td>\n",
       "      <td>37.700001</td>\n",
       "      <td>1928400</td>\n",
       "      <td>40.599998</td>\n",
       "      <td>39.200001</td>\n",
       "      <td>36.955467</td>\n",
       "    </tr>\n",
       "    <tr>\n",
       "      <th>2</th>\n",
       "      <td>2006-01-05</td>\n",
       "      <td>38.910000</td>\n",
       "      <td>39.180000</td>\n",
       "      <td>317900</td>\n",
       "      <td>39.709999</td>\n",
       "      <td>39.709999</td>\n",
       "      <td>37.436268</td>\n",
       "    </tr>\n",
       "    <tr>\n",
       "      <th>3</th>\n",
       "      <td>2006-01-06</td>\n",
       "      <td>38.139999</td>\n",
       "      <td>39.709999</td>\n",
       "      <td>349200</td>\n",
       "      <td>39.709999</td>\n",
       "      <td>39.000000</td>\n",
       "      <td>36.766914</td>\n",
       "    </tr>\n",
       "    <tr>\n",
       "      <th>4</th>\n",
       "      <td>2006-01-09</td>\n",
       "      <td>38.500000</td>\n",
       "      <td>38.799999</td>\n",
       "      <td>220800</td>\n",
       "      <td>38.880001</td>\n",
       "      <td>38.610001</td>\n",
       "      <td>36.399242</td>\n",
       "    </tr>\n",
       "    <tr>\n",
       "      <th>5</th>\n",
       "      <td>2006-01-10</td>\n",
       "      <td>37.400002</td>\n",
       "      <td>38.610001</td>\n",
       "      <td>191300</td>\n",
       "      <td>38.709999</td>\n",
       "      <td>37.799999</td>\n",
       "      <td>35.635628</td>\n",
       "    </tr>\n",
       "    <tr>\n",
       "      <th>6</th>\n",
       "      <td>2006-01-11</td>\n",
       "      <td>34.650002</td>\n",
       "      <td>37.799999</td>\n",
       "      <td>974300</td>\n",
       "      <td>37.799999</td>\n",
       "      <td>34.799999</td>\n",
       "      <td>32.807415</td>\n",
       "    </tr>\n",
       "    <tr>\n",
       "      <th>7</th>\n",
       "      <td>2006-01-12</td>\n",
       "      <td>32.959999</td>\n",
       "      <td>33.000000</td>\n",
       "      <td>2008900</td>\n",
       "      <td>35.349998</td>\n",
       "      <td>34.990002</td>\n",
       "      <td>32.986526</td>\n",
       "    </tr>\n",
       "    <tr>\n",
       "      <th>8</th>\n",
       "      <td>2006-01-13</td>\n",
       "      <td>33.310001</td>\n",
       "      <td>35.000000</td>\n",
       "      <td>734200</td>\n",
       "      <td>35.419998</td>\n",
       "      <td>34.049999</td>\n",
       "      <td>32.100342</td>\n",
       "    </tr>\n",
       "    <tr>\n",
       "      <th>9</th>\n",
       "      <td>2006-01-17</td>\n",
       "      <td>29.620001</td>\n",
       "      <td>33.549999</td>\n",
       "      <td>2351200</td>\n",
       "      <td>33.549999</td>\n",
       "      <td>30.000000</td>\n",
       "      <td>28.282244</td>\n",
       "    </tr>\n",
       "    <tr>\n",
       "      <th>10</th>\n",
       "      <td>2006-01-18</td>\n",
       "      <td>28.879999</td>\n",
       "      <td>29.100000</td>\n",
       "      <td>1773700</td>\n",
       "      <td>31.160000</td>\n",
       "      <td>31.000000</td>\n",
       "      <td>29.224985</td>\n",
       "    </tr>\n",
       "    <tr>\n",
       "      <th>11</th>\n",
       "      <td>2006-01-19</td>\n",
       "      <td>29.340000</td>\n",
       "      <td>30.799999</td>\n",
       "      <td>857200</td>\n",
       "      <td>31.240000</td>\n",
       "      <td>30.389999</td>\n",
       "      <td>28.649918</td>\n",
       "    </tr>\n",
       "    <tr>\n",
       "      <th>12</th>\n",
       "      <td>2006-01-20</td>\n",
       "      <td>28.600000</td>\n",
       "      <td>30.280001</td>\n",
       "      <td>788700</td>\n",
       "      <td>30.280001</td>\n",
       "      <td>29.240000</td>\n",
       "      <td>27.565760</td>\n",
       "    </tr>\n",
       "    <tr>\n",
       "      <th>13</th>\n",
       "      <td>2006-01-23</td>\n",
       "      <td>29.150000</td>\n",
       "      <td>29.490000</td>\n",
       "      <td>530800</td>\n",
       "      <td>30.049999</td>\n",
       "      <td>29.420000</td>\n",
       "      <td>27.735455</td>\n",
       "    </tr>\n",
       "    <tr>\n",
       "      <th>14</th>\n",
       "      <td>2006-01-24</td>\n",
       "      <td>29.750000</td>\n",
       "      <td>29.900000</td>\n",
       "      <td>648900</td>\n",
       "      <td>31.469999</td>\n",
       "      <td>31.020000</td>\n",
       "      <td>29.243839</td>\n",
       "    </tr>\n",
       "    <tr>\n",
       "      <th>15</th>\n",
       "      <td>2006-01-25</td>\n",
       "      <td>30.750000</td>\n",
       "      <td>31.150000</td>\n",
       "      <td>836300</td>\n",
       "      <td>31.510000</td>\n",
       "      <td>31.000000</td>\n",
       "      <td>29.224985</td>\n",
       "    </tr>\n",
       "    <tr>\n",
       "      <th>16</th>\n",
       "      <td>2006-01-26</td>\n",
       "      <td>30.000000</td>\n",
       "      <td>31.049999</td>\n",
       "      <td>313700</td>\n",
       "      <td>31.250000</td>\n",
       "      <td>30.250000</td>\n",
       "      <td>28.517929</td>\n",
       "    </tr>\n",
       "    <tr>\n",
       "      <th>17</th>\n",
       "      <td>2006-01-27</td>\n",
       "      <td>28.299999</td>\n",
       "      <td>30.200001</td>\n",
       "      <td>518600</td>\n",
       "      <td>30.200001</td>\n",
       "      <td>28.889999</td>\n",
       "      <td>27.235802</td>\n",
       "    </tr>\n",
       "    <tr>\n",
       "      <th>18</th>\n",
       "      <td>2006-01-30</td>\n",
       "      <td>28.730000</td>\n",
       "      <td>28.730000</td>\n",
       "      <td>917300</td>\n",
       "      <td>29.580000</td>\n",
       "      <td>29.000000</td>\n",
       "      <td>27.339504</td>\n",
       "    </tr>\n",
       "    <tr>\n",
       "      <th>19</th>\n",
       "      <td>2006-01-31</td>\n",
       "      <td>29.010000</td>\n",
       "      <td>29.170000</td>\n",
       "      <td>490600</td>\n",
       "      <td>30.410000</td>\n",
       "      <td>29.340000</td>\n",
       "      <td>27.660040</td>\n",
       "    </tr>\n",
       "  </tbody>\n",
       "</table>\n",
       "</div>"
      ],
      "text/plain": [
       "          Date        Low       Open   Volume       High      Close  \\\n",
       "0   2006-01-03  36.849998  37.200001  1013200  38.279999  37.450001   \n",
       "1   2006-01-04  37.700001  37.700001  1928400  40.599998  39.200001   \n",
       "2   2006-01-05  38.910000  39.180000   317900  39.709999  39.709999   \n",
       "3   2006-01-06  38.139999  39.709999   349200  39.709999  39.000000   \n",
       "4   2006-01-09  38.500000  38.799999   220800  38.880001  38.610001   \n",
       "5   2006-01-10  37.400002  38.610001   191300  38.709999  37.799999   \n",
       "6   2006-01-11  34.650002  37.799999   974300  37.799999  34.799999   \n",
       "7   2006-01-12  32.959999  33.000000  2008900  35.349998  34.990002   \n",
       "8   2006-01-13  33.310001  35.000000   734200  35.419998  34.049999   \n",
       "9   2006-01-17  29.620001  33.549999  2351200  33.549999  30.000000   \n",
       "10  2006-01-18  28.879999  29.100000  1773700  31.160000  31.000000   \n",
       "11  2006-01-19  29.340000  30.799999   857200  31.240000  30.389999   \n",
       "12  2006-01-20  28.600000  30.280001   788700  30.280001  29.240000   \n",
       "13  2006-01-23  29.150000  29.490000   530800  30.049999  29.420000   \n",
       "14  2006-01-24  29.750000  29.900000   648900  31.469999  31.020000   \n",
       "15  2006-01-25  30.750000  31.150000   836300  31.510000  31.000000   \n",
       "16  2006-01-26  30.000000  31.049999   313700  31.250000  30.250000   \n",
       "17  2006-01-27  28.299999  30.200001   518600  30.200001  28.889999   \n",
       "18  2006-01-30  28.730000  28.730000   917300  29.580000  29.000000   \n",
       "19  2006-01-31  29.010000  29.170000   490600  30.410000  29.340000   \n",
       "\n",
       "    Adjusted Close  \n",
       "0        35.305672  \n",
       "1        36.955467  \n",
       "2        37.436268  \n",
       "3        36.766914  \n",
       "4        36.399242  \n",
       "5        35.635628  \n",
       "6        32.807415  \n",
       "7        32.986526  \n",
       "8        32.100342  \n",
       "9        28.282244  \n",
       "10       29.224985  \n",
       "11       28.649918  \n",
       "12       27.565760  \n",
       "13       27.735455  \n",
       "14       29.243839  \n",
       "15       29.224985  \n",
       "16       28.517929  \n",
       "17       27.235802  \n",
       "18       27.339504  \n",
       "19       27.660040  "
      ]
     },
     "execution_count": 18,
     "metadata": {},
     "output_type": "execute_result"
    }
   ],
   "source": [
    "df = pd.read_csv(\"../clean_AAL.csv\")\n",
    "df.head(20)"
   ]
  },
  {
   "cell_type": "markdown",
   "id": "e5ef0894",
   "metadata": {
    "papermill": {
     "duration": 0.008386,
     "end_time": "2025-09-30T03:49:04.064838",
     "exception": false,
     "start_time": "2025-09-30T03:49:04.056452",
     "status": "completed"
    },
    "tags": []
   },
   "source": [
    "1. Feature Selection\n",
    "   To display the basic statistics for each column. This is useful for detecting if there are variables that do not vary and if so such variables should be removed. The variable is constant overtime is not predictive of the target."
   ]
  },
  {
   "cell_type": "code",
   "execution_count": 19,
   "id": "c19998af",
   "metadata": {
    "execution": {
     "iopub.execute_input": "2025-09-30T03:49:04.084767Z",
     "iopub.status.busy": "2025-09-30T03:49:04.083392Z",
     "iopub.status.idle": "2025-09-30T03:49:04.113644Z",
     "shell.execute_reply": "2025-09-30T03:49:04.112428Z"
    },
    "papermill": {
     "duration": 0.041908,
     "end_time": "2025-09-30T03:49:04.115537",
     "exception": false,
     "start_time": "2025-09-30T03:49:04.073629",
     "status": "completed"
    },
    "tags": []
   },
   "outputs": [
    {
     "data": {
      "text/html": [
       "<div>\n",
       "<style scoped>\n",
       "    .dataframe tbody tr th:only-of-type {\n",
       "        vertical-align: middle;\n",
       "    }\n",
       "\n",
       "    .dataframe tbody tr th {\n",
       "        vertical-align: top;\n",
       "    }\n",
       "\n",
       "    .dataframe thead th {\n",
       "        text-align: right;\n",
       "    }\n",
       "</style>\n",
       "<table border=\"1\" class=\"dataframe\">\n",
       "  <thead>\n",
       "    <tr style=\"text-align: right;\">\n",
       "      <th></th>\n",
       "      <th>count</th>\n",
       "      <th>mean</th>\n",
       "      <th>std</th>\n",
       "      <th>min</th>\n",
       "      <th>25%</th>\n",
       "      <th>50%</th>\n",
       "      <th>75%</th>\n",
       "      <th>max</th>\n",
       "    </tr>\n",
       "  </thead>\n",
       "  <tbody>\n",
       "    <tr>\n",
       "      <th>Low</th>\n",
       "      <td>4266.0</td>\n",
       "      <td>2.488723e+01</td>\n",
       "      <td>1.580789e+01</td>\n",
       "      <td>1.450000</td>\n",
       "      <td>1.053500e+01</td>\n",
       "      <td>2.133500e+01</td>\n",
       "      <td>3.914000e+01</td>\n",
       "      <td>6.200000e+01</td>\n",
       "    </tr>\n",
       "    <tr>\n",
       "      <th>Open</th>\n",
       "      <td>4266.0</td>\n",
       "      <td>2.538824e+01</td>\n",
       "      <td>1.600633e+01</td>\n",
       "      <td>1.810000</td>\n",
       "      <td>1.082250e+01</td>\n",
       "      <td>2.189000e+01</td>\n",
       "      <td>3.974500e+01</td>\n",
       "      <td>6.270000e+01</td>\n",
       "    </tr>\n",
       "    <tr>\n",
       "      <th>Volume</th>\n",
       "      <td>4266.0</td>\n",
       "      <td>1.458939e+07</td>\n",
       "      <td>2.207456e+07</td>\n",
       "      <td>191300.000000</td>\n",
       "      <td>4.749500e+06</td>\n",
       "      <td>7.557550e+06</td>\n",
       "      <td>1.352832e+07</td>\n",
       "      <td>4.286171e+08</td>\n",
       "    </tr>\n",
       "    <tr>\n",
       "      <th>High</th>\n",
       "      <td>4266.0</td>\n",
       "      <td>2.585412e+01</td>\n",
       "      <td>1.619366e+01</td>\n",
       "      <td>2.030000</td>\n",
       "      <td>1.111250e+01</td>\n",
       "      <td>2.224000e+01</td>\n",
       "      <td>4.029750e+01</td>\n",
       "      <td>6.327000e+01</td>\n",
       "    </tr>\n",
       "    <tr>\n",
       "      <th>Close</th>\n",
       "      <td>4266.0</td>\n",
       "      <td>2.535673e+01</td>\n",
       "      <td>1.600430e+01</td>\n",
       "      <td>1.760000</td>\n",
       "      <td>1.079250e+01</td>\n",
       "      <td>2.181500e+01</td>\n",
       "      <td>3.970500e+01</td>\n",
       "      <td>6.295000e+01</td>\n",
       "    </tr>\n",
       "    <tr>\n",
       "      <th>Adjusted Close</th>\n",
       "      <td>4266.0</td>\n",
       "      <td>2.439955e+01</td>\n",
       "      <td>1.533443e+01</td>\n",
       "      <td>1.659225</td>\n",
       "      <td>1.024113e+01</td>\n",
       "      <td>2.143500e+01</td>\n",
       "      <td>3.797598e+01</td>\n",
       "      <td>5.934557e+01</td>\n",
       "    </tr>\n",
       "  </tbody>\n",
       "</table>\n",
       "</div>"
      ],
      "text/plain": [
       "                 count          mean           std            min  \\\n",
       "Low             4266.0  2.488723e+01  1.580789e+01       1.450000   \n",
       "Open            4266.0  2.538824e+01  1.600633e+01       1.810000   \n",
       "Volume          4266.0  1.458939e+07  2.207456e+07  191300.000000   \n",
       "High            4266.0  2.585412e+01  1.619366e+01       2.030000   \n",
       "Close           4266.0  2.535673e+01  1.600430e+01       1.760000   \n",
       "Adjusted Close  4266.0  2.439955e+01  1.533443e+01       1.659225   \n",
       "\n",
       "                         25%           50%           75%           max  \n",
       "Low             1.053500e+01  2.133500e+01  3.914000e+01  6.200000e+01  \n",
       "Open            1.082250e+01  2.189000e+01  3.974500e+01  6.270000e+01  \n",
       "Volume          4.749500e+06  7.557550e+06  1.352832e+07  4.286171e+08  \n",
       "High            1.111250e+01  2.224000e+01  4.029750e+01  6.327000e+01  \n",
       "Close           1.079250e+01  2.181500e+01  3.970500e+01  6.295000e+01  \n",
       "Adjusted Close  1.024113e+01  2.143500e+01  3.797598e+01  5.934557e+01  "
      ]
     },
     "execution_count": 19,
     "metadata": {},
     "output_type": "execute_result"
    }
   ],
   "source": [
    "df.describe().T"
   ]
  },
  {
   "cell_type": "markdown",
   "id": "b03cb68b",
   "metadata": {
    "papermill": {
     "duration": 0.00868,
     "end_time": "2025-09-30T03:49:04.133519",
     "exception": false,
     "start_time": "2025-09-30T03:49:04.124839",
     "status": "completed"
    },
    "tags": []
   },
   "source": [
    "## Identify the seasonal period\n",
    "* Some months or time of the years show recurring patterns. Example Sep often performs poorly and other months may do better.\n",
    "* Why its matters: its based on historical event (looking at past years). Not sure about the future but as a guide some traders use. They may decide: buy during strong months or sell during weak month also when to buy dips to catch the lower prices.\n"
   ]
  },
  {
   "cell_type": "code",
   "execution_count": 20,
   "id": "39e279b3",
   "metadata": {
    "execution": {
     "iopub.execute_input": "2025-09-30T03:49:04.152899Z",
     "iopub.status.busy": "2025-09-30T03:49:04.152547Z",
     "iopub.status.idle": "2025-09-30T03:49:04.171756Z",
     "shell.execute_reply": "2025-09-30T03:49:04.170460Z"
    },
    "papermill": {
     "duration": 0.031141,
     "end_time": "2025-09-30T03:49:04.173750",
     "exception": false,
     "start_time": "2025-09-30T03:49:04.142609",
     "status": "completed"
    },
    "tags": []
   },
   "outputs": [],
   "source": [
    "# check for patterns: plot mean close per month and close per year\n",
    "df[\"Date\"] = pd.to_datetime(df[\"Date\"])\n",
    "\n",
    "# extract month and year from date column\n",
    "df[\"Month\"] = df[\"Date\"].dt.month\n",
    "df[\"Year\"] = df[\"Date\"].dt.year\n",
    "\n",
    "monthly_mean = df.groupby([\"Month\"])[\"Close\"].mean().reset_index()\n",
    "\n",
    "yearly_mean = df.groupby([\"Year\"])[\"Close\"].mean().reset_index()\n"
   ]
  },
  {
   "cell_type": "code",
   "execution_count": 21,
   "id": "36146f7b",
   "metadata": {
    "execution": {
     "iopub.execute_input": "2025-09-30T03:49:04.195350Z",
     "iopub.status.busy": "2025-09-30T03:49:04.194205Z",
     "iopub.status.idle": "2025-09-30T03:49:04.204463Z",
     "shell.execute_reply": "2025-09-30T03:49:04.203416Z"
    },
    "papermill": {
     "duration": 0.02282,
     "end_time": "2025-09-30T03:49:04.206279",
     "exception": false,
     "start_time": "2025-09-30T03:49:04.183459",
     "status": "completed"
    },
    "tags": []
   },
   "outputs": [
    {
     "data": {
      "text/html": [
       "<div>\n",
       "<style scoped>\n",
       "    .dataframe tbody tr th:only-of-type {\n",
       "        vertical-align: middle;\n",
       "    }\n",
       "\n",
       "    .dataframe tbody tr th {\n",
       "        vertical-align: top;\n",
       "    }\n",
       "\n",
       "    .dataframe thead th {\n",
       "        text-align: right;\n",
       "    }\n",
       "</style>\n",
       "<table border=\"1\" class=\"dataframe\">\n",
       "  <thead>\n",
       "    <tr style=\"text-align: right;\">\n",
       "      <th></th>\n",
       "      <th>Month</th>\n",
       "      <th>Close</th>\n",
       "    </tr>\n",
       "  </thead>\n",
       "  <tbody>\n",
       "    <tr>\n",
       "      <th>0</th>\n",
       "      <td>1</td>\n",
       "      <td>27.501545</td>\n",
       "    </tr>\n",
       "    <tr>\n",
       "      <th>1</th>\n",
       "      <td>2</td>\n",
       "      <td>27.312301</td>\n",
       "    </tr>\n",
       "    <tr>\n",
       "      <th>2</th>\n",
       "      <td>3</td>\n",
       "      <td>26.263324</td>\n",
       "    </tr>\n",
       "    <tr>\n",
       "      <th>3</th>\n",
       "      <td>4</td>\n",
       "      <td>25.501880</td>\n",
       "    </tr>\n",
       "    <tr>\n",
       "      <th>4</th>\n",
       "      <td>5</td>\n",
       "      <td>25.268106</td>\n",
       "    </tr>\n",
       "    <tr>\n",
       "      <th>5</th>\n",
       "      <td>6</td>\n",
       "      <td>24.701071</td>\n",
       "    </tr>\n",
       "    <tr>\n",
       "      <th>6</th>\n",
       "      <td>7</td>\n",
       "      <td>24.789972</td>\n",
       "    </tr>\n",
       "    <tr>\n",
       "      <th>7</th>\n",
       "      <td>8</td>\n",
       "      <td>23.683342</td>\n",
       "    </tr>\n",
       "    <tr>\n",
       "      <th>8</th>\n",
       "      <td>9</td>\n",
       "      <td>23.654870</td>\n",
       "    </tr>\n",
       "    <tr>\n",
       "      <th>9</th>\n",
       "      <td>10</td>\n",
       "      <td>24.397701</td>\n",
       "    </tr>\n",
       "    <tr>\n",
       "      <th>10</th>\n",
       "      <td>11</td>\n",
       "      <td>25.398879</td>\n",
       "    </tr>\n",
       "    <tr>\n",
       "      <th>11</th>\n",
       "      <td>12</td>\n",
       "      <td>26.159812</td>\n",
       "    </tr>\n",
       "  </tbody>\n",
       "</table>\n",
       "</div>"
      ],
      "text/plain": [
       "    Month      Close\n",
       "0       1  27.501545\n",
       "1       2  27.312301\n",
       "2       3  26.263324\n",
       "3       4  25.501880\n",
       "4       5  25.268106\n",
       "5       6  24.701071\n",
       "6       7  24.789972\n",
       "7       8  23.683342\n",
       "8       9  23.654870\n",
       "9      10  24.397701\n",
       "10     11  25.398879\n",
       "11     12  26.159812"
      ]
     },
     "execution_count": 21,
     "metadata": {},
     "output_type": "execute_result"
    }
   ],
   "source": [
    "monthly_mean"
   ]
  },
  {
   "cell_type": "code",
   "execution_count": 22,
   "id": "19f6fc9b",
   "metadata": {
    "execution": {
     "iopub.execute_input": "2025-09-30T03:49:04.227268Z",
     "iopub.status.busy": "2025-09-30T03:49:04.226915Z",
     "iopub.status.idle": "2025-09-30T03:49:04.582178Z",
     "shell.execute_reply": "2025-09-30T03:49:04.580878Z"
    },
    "papermill": {
     "duration": 0.368162,
     "end_time": "2025-09-30T03:49:04.584789",
     "exception": false,
     "start_time": "2025-09-30T03:49:04.216627",
     "status": "completed"
    },
    "tags": []
   },
   "outputs": [
    {
     "data": {
      "image/png": "[encoded data removed]",
      "text/plain": [
       "<Figure size 1000x400 with 1 Axes>"
      ]
     },
     "metadata": {},
     "output_type": "display_data"
    }
   ],
   "source": [
    "# plot the mean close price per month\n",
    "ax = sns.barplot(data=monthly_mean, x=\"Month\", y=\"Close\", palette=\"Set3\")\n",
    "\n",
    "plt.title(\"Mean close price per month\")\n",
    "plt.xlabel(\"Month\")\n",
    "plt.ylabel(\"Mean close price\")\n",
    "\n",
    "plt.xticks(range(0,12), labels=[\"Jan\",\"Feb\",\"Mar\",\"Apr\",\"May\",\"Jun\",\"Jul\",\"Aug\",\"Sep\",\"Oct\",\"Nov\",\"Dec\"])\n",
    "plt.legend(title=\"Year\")\n",
    "\n",
    "for bar in ax.containers:\n",
    "    ax.bar_label(bar, fontsize=9, fmt=\"%.2f\")\n",
    "plt.show()\n"
   ]
  },
  {
   "cell_type": "markdown",
   "id": "ee639b56",
   "metadata": {
    "papermill": {
     "duration": 0.011415,
     "end_time": "2025-09-30T03:49:04.614575",
     "exception": false,
     "start_time": "2025-09-30T03:49:04.603160",
     "status": "completed"
    },
    "tags": []
   },
   "source": [
    "**Figure**: Mean close price don't change much for all months"
   ]
  },
  {
   "cell_type": "code",
   "execution_count": 23,
   "id": "d4a278f9",
   "metadata": {
    "execution": {
     "iopub.execute_input": "2025-09-30T03:49:04.637954Z",
     "iopub.status.busy": "2025-09-30T03:49:04.637264Z",
     "iopub.status.idle": "2025-09-30T03:49:04.648439Z",
     "shell.execute_reply": "2025-09-30T03:49:04.647369Z"
    },
    "papermill": {
     "duration": 0.024679,
     "end_time": "2025-09-30T03:49:04.650445",
     "exception": false,
     "start_time": "2025-09-30T03:49:04.625766",
     "status": "completed"
    },
    "tags": []
   },
   "outputs": [
    {
     "data": {
      "text/html": [
       "<div>\n",
       "<style scoped>\n",
       "    .dataframe tbody tr th:only-of-type {\n",
       "        vertical-align: middle;\n",
       "    }\n",
       "\n",
       "    .dataframe tbody tr th {\n",
       "        vertical-align: top;\n",
       "    }\n",
       "\n",
       "    .dataframe thead th {\n",
       "        text-align: right;\n",
       "    }\n",
       "</style>\n",
       "<table border=\"1\" class=\"dataframe\">\n",
       "  <thead>\n",
       "    <tr style=\"text-align: right;\">\n",
       "      <th></th>\n",
       "      <th>Year</th>\n",
       "      <th>Close</th>\n",
       "    </tr>\n",
       "  </thead>\n",
       "  <tbody>\n",
       "    <tr>\n",
       "      <th>0</th>\n",
       "      <td>2006</td>\n",
       "      <td>44.322390</td>\n",
       "    </tr>\n",
       "    <tr>\n",
       "      <th>1</th>\n",
       "      <td>2007</td>\n",
       "      <td>35.671952</td>\n",
       "    </tr>\n",
       "    <tr>\n",
       "      <th>2</th>\n",
       "      <td>2008</td>\n",
       "      <td>7.742134</td>\n",
       "    </tr>\n",
       "    <tr>\n",
       "      <th>3</th>\n",
       "      <td>2009</td>\n",
       "      <td>3.829643</td>\n",
       "    </tr>\n",
       "    <tr>\n",
       "      <th>4</th>\n",
       "      <td>2010</td>\n",
       "      <td>8.636667</td>\n",
       "    </tr>\n",
       "    <tr>\n",
       "      <th>5</th>\n",
       "      <td>2011</td>\n",
       "      <td>7.459841</td>\n",
       "    </tr>\n",
       "    <tr>\n",
       "      <th>6</th>\n",
       "      <td>2012</td>\n",
       "      <td>10.496160</td>\n",
       "    </tr>\n",
       "    <tr>\n",
       "      <th>7</th>\n",
       "      <td>2013</td>\n",
       "      <td>18.187936</td>\n",
       "    </tr>\n",
       "    <tr>\n",
       "      <th>8</th>\n",
       "      <td>2014</td>\n",
       "      <td>38.923651</td>\n",
       "    </tr>\n",
       "    <tr>\n",
       "      <th>9</th>\n",
       "      <td>2015</td>\n",
       "      <td>45.122103</td>\n",
       "    </tr>\n",
       "    <tr>\n",
       "      <th>10</th>\n",
       "      <td>2016</td>\n",
       "      <td>38.183849</td>\n",
       "    </tr>\n",
       "    <tr>\n",
       "      <th>11</th>\n",
       "      <td>2017</td>\n",
       "      <td>47.490717</td>\n",
       "    </tr>\n",
       "    <tr>\n",
       "      <th>12</th>\n",
       "      <td>2018</td>\n",
       "      <td>42.801952</td>\n",
       "    </tr>\n",
       "    <tr>\n",
       "      <th>13</th>\n",
       "      <td>2019</td>\n",
       "      <td>30.879326</td>\n",
       "    </tr>\n",
       "    <tr>\n",
       "      <th>14</th>\n",
       "      <td>2020</td>\n",
       "      <td>15.280395</td>\n",
       "    </tr>\n",
       "    <tr>\n",
       "      <th>15</th>\n",
       "      <td>2021</td>\n",
       "      <td>20.343214</td>\n",
       "    </tr>\n",
       "    <tr>\n",
       "      <th>16</th>\n",
       "      <td>2022</td>\n",
       "      <td>15.404769</td>\n",
       "    </tr>\n",
       "  </tbody>\n",
       "</table>\n",
       "</div>"
      ],
      "text/plain": [
       "    Year      Close\n",
       "0   2006  44.322390\n",
       "1   2007  35.671952\n",
       "2   2008   7.742134\n",
       "3   2009   3.829643\n",
       "4   2010   8.636667\n",
       "5   2011   7.459841\n",
       "6   2012  10.496160\n",
       "7   2013  18.187936\n",
       "8   2014  38.923651\n",
       "9   2015  45.122103\n",
       "10  2016  38.183849\n",
       "11  2017  47.490717\n",
       "12  2018  42.801952\n",
       "13  2019  30.879326\n",
       "14  2020  15.280395\n",
       "15  2021  20.343214\n",
       "16  2022  15.404769"
      ]
     },
     "execution_count": 23,
     "metadata": {},
     "output_type": "execute_result"
    }
   ],
   "source": [
    "yearly_mean"
   ]
  },
  {
   "cell_type": "code",
   "execution_count": 24,
   "id": "70eef0df",
   "metadata": {
    "execution": {
     "iopub.execute_input": "2025-09-30T03:49:04.673920Z",
     "iopub.status.busy": "2025-09-30T03:49:04.673578Z",
     "iopub.status.idle": "2025-09-30T03:49:05.039434Z",
     "shell.execute_reply": "2025-09-30T03:49:05.038061Z"
    },
    "papermill": {
     "duration": 0.380134,
     "end_time": "2025-09-30T03:49:05.041197",
     "exception": false,
     "start_time": "2025-09-30T03:49:04.661063",
     "status": "completed"
    },
    "tags": []
   },
   "outputs": [
    {
     "data": {
      "image/png": "[encoded data removed]",
      "text/plain": [
       "<Figure size 1000x400 with 1 Axes>"
      ]
     },
     "metadata": {},
     "output_type": "display_data"
    }
   ],
   "source": [
    "first_years = yearly_mean[\"Year\"].tolist()\n",
    "\n",
    "# plot the mean close price per month\n",
    "ax = sns.barplot(data=yearly_mean, x=\"Year\", y=\"Close\", palette=\"Set3\")\n",
    "\n",
    "plt.title(\"Mean close price per year\")\n",
    "plt.xlabel(\"Year\")\n",
    "plt.ylabel(\"Mean close price\")\n",
    "\n",
    "plt.xticks(range(0,len(first_years)), labels = first_years)\n",
    "plt.legend(title=\"Year\")\n",
    "\n",
    "for bar in ax.containers:\n",
    "    ax.bar_label(bar, fontsize=11, fmt=\"%.2f\")\n",
    "\n",
    "plt.show()\n"
   ]
  },
  {
   "cell_type": "markdown",
   "id": "013c9f2d",
   "metadata": {
    "papermill": {
     "duration": 0.011107,
     "end_time": "2025-09-30T03:49:05.129915",
     "exception": false,
     "start_time": "2025-09-30T03:49:05.118808",
     "status": "completed"
    },
    "tags": []
   },
   "source": [
    "**Figure**: year 2009 have the lowest close price, year 2017 have the highest close price."
   ]
  },
  {
   "cell_type": "code",
   "execution_count": 25,
   "id": "ca7e8a6c",
   "metadata": {
    "execution": {
     "iopub.execute_input": "2025-09-30T03:49:05.155958Z",
     "iopub.status.busy": "2025-09-30T03:49:05.155366Z",
     "iopub.status.idle": "2025-09-30T03:49:05.977873Z",
     "shell.execute_reply": "2025-09-30T03:49:05.976654Z"
    },
    "papermill": {
     "duration": 0.837041,
     "end_time": "2025-09-30T03:49:05.979609",
     "exception": false,
     "start_time": "2025-09-30T03:49:05.142568",
     "status": "completed"
    },
    "tags": []
   },
   "outputs": [
    {
     "data": {
      "image/png": "[encoded data removed]",
      "text/plain": [
       "<Figure size 1200x600 with 1 Axes>"
      ]
     },
     "metadata": {},
     "output_type": "display_data"
    }
   ],
   "source": [
    "# use lineplot to illustrate both 2009,2017 to examinate\n",
    "plt.figure(figsize=(12,6))\n",
    "\n",
    "filtered_df = df[df[\"Year\"].isin([2009,2017])]\n",
    "sns.lineplot(data=filtered_df, x=\"Month\",y=\"Close\",hue=\"Year\", palette=\"Set3\" )\n",
    "\n",
    "plt.title(\"Mean close price per month\")\n",
    "plt.xlabel(\"Month\")\n",
    "plt.ylabel(\"Mean close price\")\n",
    "\n",
    "plt.xticks(range(1,13), labels=[\"Jan\", \"Feb\", \"Mar\", \"Apr\", \"May\", \"Jun\", \"Jul\", \"Aug\", \"Sep\", \"Oct\", \"Nov\", \"Dec\"])\n",
    "plt.legend(title=\"Year\")\n",
    "plt.show()\n",
    "\n"
   ]
  }
 ],
 "metadata": {
  "kaggle": {
   "accelerator": "none",
   "dataSources": [
    {
     "datasetId": 1125174,
     "sourceId": 4861155,
     "sourceType": "datasetVersion"
    }
   ],
   "dockerImageVersionId": 31089,
   "isGpuEnabled": false,
   "isInternetEnabled": false,
   "language": "python",
   "sourceType": "notebook"
  },
  "kernelspec": {
   "display_name": "Python 3",
   "language": "python",
   "name": "python3"
  },
  "language_info": {
   "codemirror_mode": {
    "name": "ipython",
    "version": 3
   },
   "file_extension": ".py",
   "mimetype": "text/x-python",
   "name": "python",
   "nbconvert_exporter": "python",
   "pygments_lexer": "ipython3",
   "version": "3.11.13"
  },
  "papermill": {
   "default_parameters": {},
   "duration": 48.054258,
   "end_time": "2025-09-30T03:49:09.120733",
   "environment_variables": {},
   "exception": null,
   "input_path": "__notebook__.ipynb",
   "output_path": "__notebook__.ipynb",
   "parameters": {},
   "start_time": "2025-09-30T03:48:21.066475",
   "version": "2.6.0"
  }
 },
 "nbformat": 4,
 "nbformat_minor": 5
}
